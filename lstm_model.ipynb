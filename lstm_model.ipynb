{
  "nbformat": 4,
  "nbformat_minor": 0,
  "metadata": {
    "colab": {
      "name": "lstm_model.ipynb",
      "provenance": []
    },
    "kernelspec": {
      "name": "python3",
      "display_name": "Python 3"
    },
    "language_info": {
      "name": "python"
    }
  },
  "cells": [
    {
      "cell_type": "code",
      "execution_count": 75,
      "metadata": {
        "id": "n_3xsNuh514V"
      },
      "outputs": [],
      "source": [
        "import numpy as np\n",
        "import pandas as pd\n",
        "import math\n",
        "import pandas_datareader as web\n",
        "from sklearn.preprocessing import MinMaxScaler\n",
        "from keras.models import Sequential\n",
        "from keras.layers import Dense,LSTM\n",
        "import matplotlib.pyplot as plt\n",
        "plt.style.use('fivethirtyeight')\n"
      ]
    },
    {
      "cell_type": "code",
      "source": [
        "df = pd.read_csv('BTC-USD.csv')\n",
        "df.head()"
      ],
      "metadata": {
        "colab": {
          "base_uri": "https://localhost:8080/",
          "height": 206
        },
        "id": "4hAh8hps7MOg",
        "outputId": "3061b881-0eeb-4762-c0bd-c9a2c72c406f"
      },
      "execution_count": 76,
      "outputs": [
        {
          "output_type": "execute_result",
          "data": {
            "text/plain": [
              "         Date     Open     High      Low    Close  Adj Close  Volume\n",
              "0  16-07-2010  0.04951  0.04951  0.04951  0.04951    0.04951       0\n",
              "1  17-07-2010  0.04951  0.08585  0.05941  0.08584    0.08584       5\n",
              "2  18-07-2010  0.08584  0.09307  0.07723  0.08080    0.08080      49\n",
              "3  19-07-2010  0.08080  0.08181  0.07426  0.07474    0.07474      20\n",
              "4  20-07-2010  0.07474  0.07921  0.06634  0.07921    0.07921      42"
            ],
            "text/html": [
              "\n",
              "  <div id=\"df-4ca1a0c6-1243-4790-a061-5ab9240327ef\">\n",
              "    <div class=\"colab-df-container\">\n",
              "      <div>\n",
              "<style scoped>\n",
              "    .dataframe tbody tr th:only-of-type {\n",
              "        vertical-align: middle;\n",
              "    }\n",
              "\n",
              "    .dataframe tbody tr th {\n",
              "        vertical-align: top;\n",
              "    }\n",
              "\n",
              "    .dataframe thead th {\n",
              "        text-align: right;\n",
              "    }\n",
              "</style>\n",
              "<table border=\"1\" class=\"dataframe\">\n",
              "  <thead>\n",
              "    <tr style=\"text-align: right;\">\n",
              "      <th></th>\n",
              "      <th>Date</th>\n",
              "      <th>Open</th>\n",
              "      <th>High</th>\n",
              "      <th>Low</th>\n",
              "      <th>Close</th>\n",
              "      <th>Adj Close</th>\n",
              "      <th>Volume</th>\n",
              "    </tr>\n",
              "  </thead>\n",
              "  <tbody>\n",
              "    <tr>\n",
              "      <th>0</th>\n",
              "      <td>16-07-2010</td>\n",
              "      <td>0.04951</td>\n",
              "      <td>0.04951</td>\n",
              "      <td>0.04951</td>\n",
              "      <td>0.04951</td>\n",
              "      <td>0.04951</td>\n",
              "      <td>0</td>\n",
              "    </tr>\n",
              "    <tr>\n",
              "      <th>1</th>\n",
              "      <td>17-07-2010</td>\n",
              "      <td>0.04951</td>\n",
              "      <td>0.08585</td>\n",
              "      <td>0.05941</td>\n",
              "      <td>0.08584</td>\n",
              "      <td>0.08584</td>\n",
              "      <td>5</td>\n",
              "    </tr>\n",
              "    <tr>\n",
              "      <th>2</th>\n",
              "      <td>18-07-2010</td>\n",
              "      <td>0.08584</td>\n",
              "      <td>0.09307</td>\n",
              "      <td>0.07723</td>\n",
              "      <td>0.08080</td>\n",
              "      <td>0.08080</td>\n",
              "      <td>49</td>\n",
              "    </tr>\n",
              "    <tr>\n",
              "      <th>3</th>\n",
              "      <td>19-07-2010</td>\n",
              "      <td>0.08080</td>\n",
              "      <td>0.08181</td>\n",
              "      <td>0.07426</td>\n",
              "      <td>0.07474</td>\n",
              "      <td>0.07474</td>\n",
              "      <td>20</td>\n",
              "    </tr>\n",
              "    <tr>\n",
              "      <th>4</th>\n",
              "      <td>20-07-2010</td>\n",
              "      <td>0.07474</td>\n",
              "      <td>0.07921</td>\n",
              "      <td>0.06634</td>\n",
              "      <td>0.07921</td>\n",
              "      <td>0.07921</td>\n",
              "      <td>42</td>\n",
              "    </tr>\n",
              "  </tbody>\n",
              "</table>\n",
              "</div>\n",
              "      <button class=\"colab-df-convert\" onclick=\"convertToInteractive('df-4ca1a0c6-1243-4790-a061-5ab9240327ef')\"\n",
              "              title=\"Convert this dataframe to an interactive table.\"\n",
              "              style=\"display:none;\">\n",
              "        \n",
              "  <svg xmlns=\"http://www.w3.org/2000/svg\" height=\"24px\"viewBox=\"0 0 24 24\"\n",
              "       width=\"24px\">\n",
              "    <path d=\"M0 0h24v24H0V0z\" fill=\"none\"/>\n",
              "    <path d=\"M18.56 5.44l.94 2.06.94-2.06 2.06-.94-2.06-.94-.94-2.06-.94 2.06-2.06.94zm-11 1L8.5 8.5l.94-2.06 2.06-.94-2.06-.94L8.5 2.5l-.94 2.06-2.06.94zm10 10l.94 2.06.94-2.06 2.06-.94-2.06-.94-.94-2.06-.94 2.06-2.06.94z\"/><path d=\"M17.41 7.96l-1.37-1.37c-.4-.4-.92-.59-1.43-.59-.52 0-1.04.2-1.43.59L10.3 9.45l-7.72 7.72c-.78.78-.78 2.05 0 2.83L4 21.41c.39.39.9.59 1.41.59.51 0 1.02-.2 1.41-.59l7.78-7.78 2.81-2.81c.8-.78.8-2.07 0-2.86zM5.41 20L4 18.59l7.72-7.72 1.47 1.35L5.41 20z\"/>\n",
              "  </svg>\n",
              "      </button>\n",
              "      \n",
              "  <style>\n",
              "    .colab-df-container {\n",
              "      display:flex;\n",
              "      flex-wrap:wrap;\n",
              "      gap: 12px;\n",
              "    }\n",
              "\n",
              "    .colab-df-convert {\n",
              "      background-color: #E8F0FE;\n",
              "      border: none;\n",
              "      border-radius: 50%;\n",
              "      cursor: pointer;\n",
              "      display: none;\n",
              "      fill: #1967D2;\n",
              "      height: 32px;\n",
              "      padding: 0 0 0 0;\n",
              "      width: 32px;\n",
              "    }\n",
              "\n",
              "    .colab-df-convert:hover {\n",
              "      background-color: #E2EBFA;\n",
              "      box-shadow: 0px 1px 2px rgba(60, 64, 67, 0.3), 0px 1px 3px 1px rgba(60, 64, 67, 0.15);\n",
              "      fill: #174EA6;\n",
              "    }\n",
              "\n",
              "    [theme=dark] .colab-df-convert {\n",
              "      background-color: #3B4455;\n",
              "      fill: #D2E3FC;\n",
              "    }\n",
              "\n",
              "    [theme=dark] .colab-df-convert:hover {\n",
              "      background-color: #434B5C;\n",
              "      box-shadow: 0px 1px 3px 1px rgba(0, 0, 0, 0.15);\n",
              "      filter: drop-shadow(0px 1px 2px rgba(0, 0, 0, 0.3));\n",
              "      fill: #FFFFFF;\n",
              "    }\n",
              "  </style>\n",
              "\n",
              "      <script>\n",
              "        const buttonEl =\n",
              "          document.querySelector('#df-4ca1a0c6-1243-4790-a061-5ab9240327ef button.colab-df-convert');\n",
              "        buttonEl.style.display =\n",
              "          google.colab.kernel.accessAllowed ? 'block' : 'none';\n",
              "\n",
              "        async function convertToInteractive(key) {\n",
              "          const element = document.querySelector('#df-4ca1a0c6-1243-4790-a061-5ab9240327ef');\n",
              "          const dataTable =\n",
              "            await google.colab.kernel.invokeFunction('convertToInteractive',\n",
              "                                                     [key], {});\n",
              "          if (!dataTable) return;\n",
              "\n",
              "          const docLinkHtml = 'Like what you see? Visit the ' +\n",
              "            '<a target=\"_blank\" href=https://colab.research.google.com/notebooks/data_table.ipynb>data table notebook</a>'\n",
              "            + ' to learn more about interactive tables.';\n",
              "          element.innerHTML = '';\n",
              "          dataTable['output_type'] = 'display_data';\n",
              "          await google.colab.output.renderOutput(dataTable, element);\n",
              "          const docLink = document.createElement('div');\n",
              "          docLink.innerHTML = docLinkHtml;\n",
              "          element.appendChild(docLink);\n",
              "        }\n",
              "      </script>\n",
              "    </div>\n",
              "  </div>\n",
              "  "
            ]
          },
          "metadata": {},
          "execution_count": 76
        }
      ]
    },
    {
      "cell_type": "code",
      "source": [
        "df.tail()"
      ],
      "metadata": {
        "colab": {
          "base_uri": "https://localhost:8080/",
          "height": 206
        },
        "id": "3NeLOhTnG8Od",
        "outputId": "d0dbd5fa-9e4f-4e27-e61a-1e085aaae7c5"
      },
      "execution_count": 47,
      "outputs": [
        {
          "output_type": "execute_result",
          "data": {
            "text/plain": [
              "            Date         Open         High          Low        Close  \\\n",
              "3196  16-04-2019  5212.810059  5270.759766  5190.810059  5236.259766   \n",
              "3197  17-04-2019  5236.259766  5317.779785  5232.990234  5289.750000   \n",
              "3198  18-04-2019  5289.750000  5353.009766  5212.180176  5295.529785   \n",
              "3199  19-04-2019  5295.529785  5366.600098  5274.450195  5326.180176   \n",
              "3200  20-04-2019  5326.180176  5348.589844  5232.770020  5305.740234   \n",
              "\n",
              "        Adj Close     Volume  \n",
              "3196  5236.259766  194699629  \n",
              "3197  5289.750000  187312150  \n",
              "3198  5295.529785  158699049  \n",
              "3199  5326.180176  123577001  \n",
              "3200  5305.740234  134681237  "
            ],
            "text/html": [
              "\n",
              "  <div id=\"df-c44651b9-bf1a-40bc-92c2-1240ecb2db8d\">\n",
              "    <div class=\"colab-df-container\">\n",
              "      <div>\n",
              "<style scoped>\n",
              "    .dataframe tbody tr th:only-of-type {\n",
              "        vertical-align: middle;\n",
              "    }\n",
              "\n",
              "    .dataframe tbody tr th {\n",
              "        vertical-align: top;\n",
              "    }\n",
              "\n",
              "    .dataframe thead th {\n",
              "        text-align: right;\n",
              "    }\n",
              "</style>\n",
              "<table border=\"1\" class=\"dataframe\">\n",
              "  <thead>\n",
              "    <tr style=\"text-align: right;\">\n",
              "      <th></th>\n",
              "      <th>Date</th>\n",
              "      <th>Open</th>\n",
              "      <th>High</th>\n",
              "      <th>Low</th>\n",
              "      <th>Close</th>\n",
              "      <th>Adj Close</th>\n",
              "      <th>Volume</th>\n",
              "    </tr>\n",
              "  </thead>\n",
              "  <tbody>\n",
              "    <tr>\n",
              "      <th>3196</th>\n",
              "      <td>16-04-2019</td>\n",
              "      <td>5212.810059</td>\n",
              "      <td>5270.759766</td>\n",
              "      <td>5190.810059</td>\n",
              "      <td>5236.259766</td>\n",
              "      <td>5236.259766</td>\n",
              "      <td>194699629</td>\n",
              "    </tr>\n",
              "    <tr>\n",
              "      <th>3197</th>\n",
              "      <td>17-04-2019</td>\n",
              "      <td>5236.259766</td>\n",
              "      <td>5317.779785</td>\n",
              "      <td>5232.990234</td>\n",
              "      <td>5289.750000</td>\n",
              "      <td>5289.750000</td>\n",
              "      <td>187312150</td>\n",
              "    </tr>\n",
              "    <tr>\n",
              "      <th>3198</th>\n",
              "      <td>18-04-2019</td>\n",
              "      <td>5289.750000</td>\n",
              "      <td>5353.009766</td>\n",
              "      <td>5212.180176</td>\n",
              "      <td>5295.529785</td>\n",
              "      <td>5295.529785</td>\n",
              "      <td>158699049</td>\n",
              "    </tr>\n",
              "    <tr>\n",
              "      <th>3199</th>\n",
              "      <td>19-04-2019</td>\n",
              "      <td>5295.529785</td>\n",
              "      <td>5366.600098</td>\n",
              "      <td>5274.450195</td>\n",
              "      <td>5326.180176</td>\n",
              "      <td>5326.180176</td>\n",
              "      <td>123577001</td>\n",
              "    </tr>\n",
              "    <tr>\n",
              "      <th>3200</th>\n",
              "      <td>20-04-2019</td>\n",
              "      <td>5326.180176</td>\n",
              "      <td>5348.589844</td>\n",
              "      <td>5232.770020</td>\n",
              "      <td>5305.740234</td>\n",
              "      <td>5305.740234</td>\n",
              "      <td>134681237</td>\n",
              "    </tr>\n",
              "  </tbody>\n",
              "</table>\n",
              "</div>\n",
              "      <button class=\"colab-df-convert\" onclick=\"convertToInteractive('df-c44651b9-bf1a-40bc-92c2-1240ecb2db8d')\"\n",
              "              title=\"Convert this dataframe to an interactive table.\"\n",
              "              style=\"display:none;\">\n",
              "        \n",
              "  <svg xmlns=\"http://www.w3.org/2000/svg\" height=\"24px\"viewBox=\"0 0 24 24\"\n",
              "       width=\"24px\">\n",
              "    <path d=\"M0 0h24v24H0V0z\" fill=\"none\"/>\n",
              "    <path d=\"M18.56 5.44l.94 2.06.94-2.06 2.06-.94-2.06-.94-.94-2.06-.94 2.06-2.06.94zm-11 1L8.5 8.5l.94-2.06 2.06-.94-2.06-.94L8.5 2.5l-.94 2.06-2.06.94zm10 10l.94 2.06.94-2.06 2.06-.94-2.06-.94-.94-2.06-.94 2.06-2.06.94z\"/><path d=\"M17.41 7.96l-1.37-1.37c-.4-.4-.92-.59-1.43-.59-.52 0-1.04.2-1.43.59L10.3 9.45l-7.72 7.72c-.78.78-.78 2.05 0 2.83L4 21.41c.39.39.9.59 1.41.59.51 0 1.02-.2 1.41-.59l7.78-7.78 2.81-2.81c.8-.78.8-2.07 0-2.86zM5.41 20L4 18.59l7.72-7.72 1.47 1.35L5.41 20z\"/>\n",
              "  </svg>\n",
              "      </button>\n",
              "      \n",
              "  <style>\n",
              "    .colab-df-container {\n",
              "      display:flex;\n",
              "      flex-wrap:wrap;\n",
              "      gap: 12px;\n",
              "    }\n",
              "\n",
              "    .colab-df-convert {\n",
              "      background-color: #E8F0FE;\n",
              "      border: none;\n",
              "      border-radius: 50%;\n",
              "      cursor: pointer;\n",
              "      display: none;\n",
              "      fill: #1967D2;\n",
              "      height: 32px;\n",
              "      padding: 0 0 0 0;\n",
              "      width: 32px;\n",
              "    }\n",
              "\n",
              "    .colab-df-convert:hover {\n",
              "      background-color: #E2EBFA;\n",
              "      box-shadow: 0px 1px 2px rgba(60, 64, 67, 0.3), 0px 1px 3px 1px rgba(60, 64, 67, 0.15);\n",
              "      fill: #174EA6;\n",
              "    }\n",
              "\n",
              "    [theme=dark] .colab-df-convert {\n",
              "      background-color: #3B4455;\n",
              "      fill: #D2E3FC;\n",
              "    }\n",
              "\n",
              "    [theme=dark] .colab-df-convert:hover {\n",
              "      background-color: #434B5C;\n",
              "      box-shadow: 0px 1px 3px 1px rgba(0, 0, 0, 0.15);\n",
              "      filter: drop-shadow(0px 1px 2px rgba(0, 0, 0, 0.3));\n",
              "      fill: #FFFFFF;\n",
              "    }\n",
              "  </style>\n",
              "\n",
              "      <script>\n",
              "        const buttonEl =\n",
              "          document.querySelector('#df-c44651b9-bf1a-40bc-92c2-1240ecb2db8d button.colab-df-convert');\n",
              "        buttonEl.style.display =\n",
              "          google.colab.kernel.accessAllowed ? 'block' : 'none';\n",
              "\n",
              "        async function convertToInteractive(key) {\n",
              "          const element = document.querySelector('#df-c44651b9-bf1a-40bc-92c2-1240ecb2db8d');\n",
              "          const dataTable =\n",
              "            await google.colab.kernel.invokeFunction('convertToInteractive',\n",
              "                                                     [key], {});\n",
              "          if (!dataTable) return;\n",
              "\n",
              "          const docLinkHtml = 'Like what you see? Visit the ' +\n",
              "            '<a target=\"_blank\" href=https://colab.research.google.com/notebooks/data_table.ipynb>data table notebook</a>'\n",
              "            + ' to learn more about interactive tables.';\n",
              "          element.innerHTML = '';\n",
              "          dataTable['output_type'] = 'display_data';\n",
              "          await google.colab.output.renderOutput(dataTable, element);\n",
              "          const docLink = document.createElement('div');\n",
              "          docLink.innerHTML = docLinkHtml;\n",
              "          element.appendChild(docLink);\n",
              "        }\n",
              "      </script>\n",
              "    </div>\n",
              "  </div>\n",
              "  "
            ]
          },
          "metadata": {},
          "execution_count": 47
        }
      ]
    },
    {
      "cell_type": "code",
      "source": [
        "from keras.engine import training\n",
        "data = df.filter(['Close'])\n",
        "dataset= data.values\n",
        "training_data_len = math.ceil(len(dataset)*.8)\n",
        "training_data_len"
      ],
      "metadata": {
        "colab": {
          "base_uri": "https://localhost:8080/"
        },
        "id": "L2AjIgUh8Slm",
        "outputId": "45942352-721c-4a2c-8649-c76ee9829a9b"
      },
      "execution_count": 24,
      "outputs": [
        {
          "output_type": "execute_result",
          "data": {
            "text/plain": [
              "2561"
            ]
          },
          "metadata": {},
          "execution_count": 24
        }
      ]
    },
    {
      "cell_type": "code",
      "source": [
        "scaler = MinMaxScaler(feature_range=(0,1))\n",
        "scaled_data = scaler.fit_transform(dataset)\n",
        "\n",
        "scaled_data"
      ],
      "metadata": {
        "colab": {
          "base_uri": "https://localhost:8080/"
        },
        "id": "W_xbXK4E_d7u",
        "outputId": "3089fadf-a187-40a3-b9ab-01766f152f45"
      },
      "execution_count": 26,
      "outputs": [
        {
          "output_type": "execute_result",
          "data": {
            "text/plain": [
              "array([[0.00000000e+00],\n",
              "       [1.87796187e-06],\n",
              "       [1.61743537e-06],\n",
              "       ...,\n",
              "       [2.73732729e-01],\n",
              "       [2.75317101e-01],\n",
              "       [2.74260525e-01]])"
            ]
          },
          "metadata": {},
          "execution_count": 26
        }
      ]
    },
    {
      "cell_type": "code",
      "source": [
        "train_data = scaled_data[0:training_data_len, :]\n",
        "x_train = []\n",
        "y_train=[]\n",
        "\n",
        "for i in range(60, len(train_data)):\n",
        "  x_train.append(train_data[i-60:i,0])\n",
        "  y_train.append(train_data[i,0])\n",
        "  if i<=61:\n",
        "    print(x_train)\n",
        "    print(y_train)\n",
        "    print()"
      ],
      "metadata": {
        "colab": {
          "base_uri": "https://localhost:8080/"
        },
        "id": "XeucuLXy_uWw",
        "outputId": "86f57c5b-d291-45eb-bed7-63f78a9c814b"
      },
      "execution_count": 29,
      "outputs": [
        {
          "output_type": "stream",
          "name": "stdout",
          "text": [
            "[array([0.00000000e+00, 1.87796187e-06, 1.61743537e-06, 1.30418326e-06,\n",
            "       1.53524546e-06, 5.11748486e-08, 6.77679056e-07, 2.60009584e-07,\n",
            "       5.11748486e-08, 3.35479563e-07, 5.42246628e-07, 4.85385685e-07,\n",
            "       1.05399511e-06, 6.81814397e-07, 9.48026993e-07, 5.99107571e-07,\n",
            "       5.42246628e-07, 5.42246628e-07, 3.87171329e-07, 5.93938394e-07,\n",
            "       6.61137691e-07, 4.90554862e-07, 5.88769218e-07, 1.11085606e-06,\n",
            "       1.05916429e-06, 9.04088992e-07, 1.05916429e-06, 7.74859576e-07,\n",
            "       9.04088992e-07, 8.15696072e-07, 8.26551343e-07, 1.05916429e-06,\n",
            "       9.55780758e-07, 8.88581462e-07, 8.26551343e-07, 8.73073932e-07,\n",
            "       8.52397226e-07, 7.96053200e-07, 8.00705459e-07, 7.90367106e-07,\n",
            "       7.49013693e-07, 8.00705459e-07, 7.54182870e-07, 7.49013693e-07,\n",
            "       7.99154706e-07, 5.42246628e-07, 6.92152750e-07, 7.17998633e-07,\n",
            "       5.86184629e-07, 6.65273032e-07, 6.24953454e-07, 6.24953454e-07,\n",
            "       5.93938394e-07, 6.45630161e-07, 5.99624489e-07, 6.35291807e-07,\n",
            "       7.31438493e-07, 6.19784278e-07, 6.55451596e-07, 6.45113243e-07])]\n",
            "[5.62923334630549e-07]\n",
            "\n",
            "[array([0.00000000e+00, 1.87796187e-06, 1.61743537e-06, 1.30418326e-06,\n",
            "       1.53524546e-06, 5.11748486e-08, 6.77679056e-07, 2.60009584e-07,\n",
            "       5.11748486e-08, 3.35479563e-07, 5.42246628e-07, 4.85385685e-07,\n",
            "       1.05399511e-06, 6.81814397e-07, 9.48026993e-07, 5.99107571e-07,\n",
            "       5.42246628e-07, 5.42246628e-07, 3.87171329e-07, 5.93938394e-07,\n",
            "       6.61137691e-07, 4.90554862e-07, 5.88769218e-07, 1.11085606e-06,\n",
            "       1.05916429e-06, 9.04088992e-07, 1.05916429e-06, 7.74859576e-07,\n",
            "       9.04088992e-07, 8.15696072e-07, 8.26551343e-07, 1.05916429e-06,\n",
            "       9.55780758e-07, 8.88581462e-07, 8.26551343e-07, 8.73073932e-07,\n",
            "       8.52397226e-07, 7.96053200e-07, 8.00705459e-07, 7.90367106e-07,\n",
            "       7.49013693e-07, 8.00705459e-07, 7.54182870e-07, 7.49013693e-07,\n",
            "       7.99154706e-07, 5.42246628e-07, 6.92152750e-07, 7.17998633e-07,\n",
            "       5.86184629e-07, 6.65273032e-07, 6.24953454e-07, 6.24953454e-07,\n",
            "       5.93938394e-07, 6.45630161e-07, 5.99624489e-07, 6.35291807e-07,\n",
            "       7.31438493e-07, 6.19784278e-07, 6.55451596e-07, 6.45113243e-07]), array([1.87796187e-06, 1.61743537e-06, 1.30418326e-06, 1.53524546e-06,\n",
            "       5.11748486e-08, 6.77679056e-07, 2.60009584e-07, 5.11748486e-08,\n",
            "       3.35479563e-07, 5.42246628e-07, 4.85385685e-07, 1.05399511e-06,\n",
            "       6.81814397e-07, 9.48026993e-07, 5.99107571e-07, 5.42246628e-07,\n",
            "       5.42246628e-07, 3.87171329e-07, 5.93938394e-07, 6.61137691e-07,\n",
            "       4.90554862e-07, 5.88769218e-07, 1.11085606e-06, 1.05916429e-06,\n",
            "       9.04088992e-07, 1.05916429e-06, 7.74859576e-07, 9.04088992e-07,\n",
            "       8.15696072e-07, 8.26551343e-07, 1.05916429e-06, 9.55780758e-07,\n",
            "       8.88581462e-07, 8.26551343e-07, 8.73073932e-07, 8.52397226e-07,\n",
            "       7.96053200e-07, 8.00705459e-07, 7.90367106e-07, 7.49013693e-07,\n",
            "       8.00705459e-07, 7.54182870e-07, 7.49013693e-07, 7.99154706e-07,\n",
            "       5.42246628e-07, 6.92152750e-07, 7.17998633e-07, 5.86184629e-07,\n",
            "       6.65273032e-07, 6.24953454e-07, 6.24953454e-07, 5.93938394e-07,\n",
            "       6.45630161e-07, 5.99624489e-07, 6.35291807e-07, 7.31438493e-07,\n",
            "       6.19784278e-07, 6.55451596e-07, 6.45113243e-07, 5.62923335e-07])]\n",
            "[5.62923334630549e-07, 6.404609840286958e-07]\n",
            "\n"
          ]
        }
      ]
    },
    {
      "cell_type": "code",
      "source": [
        "x_train, y_train = np.array(x_train), np.array(y_train)"
      ],
      "metadata": {
        "id": "3-8S2IRIAgWW"
      },
      "execution_count": 30,
      "outputs": []
    },
    {
      "cell_type": "code",
      "source": [
        "x_train =np.reshape(x_train, (x_train.shape[0], x_train.shape[1],1))\n",
        "x_train.shape"
      ],
      "metadata": {
        "colab": {
          "base_uri": "https://localhost:8080/"
        },
        "id": "_KmSFduUA5bg",
        "outputId": "20967416-77ce-462a-d46b-a592ac777e7c"
      },
      "execution_count": 31,
      "outputs": [
        {
          "output_type": "execute_result",
          "data": {
            "text/plain": [
              "(2501, 60, 1)"
            ]
          },
          "metadata": {},
          "execution_count": 31
        }
      ]
    },
    {
      "cell_type": "code",
      "source": [
        "model = Sequential()\n",
        "model.add(LSTM(50, return_sequences=True, input_shape=(x_train.shape[1], 1)))\n",
        "model.add(LSTM(50, return_sequences=False))\n",
        "model.add(Dense(25))\n",
        "model.add(Dense(1))\n"
      ],
      "metadata": {
        "id": "fsFQ_JWmBHsV"
      },
      "execution_count": 32,
      "outputs": []
    },
    {
      "cell_type": "code",
      "source": [
        "model.compile(optimizer='adam', loss='mean_squared_error')"
      ],
      "metadata": {
        "id": "cIxRtF5ABxrn"
      },
      "execution_count": 33,
      "outputs": []
    },
    {
      "cell_type": "code",
      "source": [
        "model.fit(x_train, y_train, batch_size=1, epochs=1)"
      ],
      "metadata": {
        "colab": {
          "base_uri": "https://localhost:8080/"
        },
        "id": "MocRKOvjB_cy",
        "outputId": "ec9c2e15-6b04-45f8-a4f3-e62a9b757a63"
      },
      "execution_count": 34,
      "outputs": [
        {
          "output_type": "stream",
          "name": "stdout",
          "text": [
            "2501/2501 [==============================] - 72s 27ms/step - loss: 4.8300e-05\n"
          ]
        },
        {
          "output_type": "execute_result",
          "data": {
            "text/plain": [
              "<keras.callbacks.History at 0x7fe611141a50>"
            ]
          },
          "metadata": {},
          "execution_count": 34
        }
      ]
    },
    {
      "cell_type": "code",
      "source": [
        "test_data = scaled_data[training_data_len-60:,:]\n",
        "x_test=[]\n",
        "y_test=dataset[training_data_len:,:]\n",
        "for i in range(60, len(test_data)):\n",
        "  x_test.append(test_data[i-60:i, 0])"
      ],
      "metadata": {
        "id": "ixjZefpLCHoe"
      },
      "execution_count": 36,
      "outputs": []
    },
    {
      "cell_type": "code",
      "source": [
        "x_test = np.array(x_test)"
      ],
      "metadata": {
        "id": "TlfYYbCSDDzl"
      },
      "execution_count": 37,
      "outputs": []
    },
    {
      "cell_type": "code",
      "source": [
        "x_test= np.reshape(x_test,(x_test.shape[0],x_test.shape[1],1))"
      ],
      "metadata": {
        "id": "RpRCFCXyDNNG"
      },
      "execution_count": 38,
      "outputs": []
    },
    {
      "cell_type": "code",
      "source": [
        "predictions = model.predict(x_test)\n",
        "predictions = scaler.inverse_transform(predictions)\n"
      ],
      "metadata": {
        "id": "-zyUqJElDaWZ"
      },
      "execution_count": 39,
      "outputs": []
    },
    {
      "cell_type": "code",
      "source": [
        "rmse = np.sqrt(np.mean(predictions - y_test)**2)\n",
        "rmse"
      ],
      "metadata": {
        "colab": {
          "base_uri": "https://localhost:8080/"
        },
        "id": "SOUhfK93DqYH",
        "outputId": "dd9ab480-27e3-42e8-f3cd-e28d29966770"
      },
      "execution_count": 40,
      "outputs": [
        {
          "output_type": "execute_result",
          "data": {
            "text/plain": [
              "2474.6987258251465"
            ]
          },
          "metadata": {},
          "execution_count": 40
        }
      ]
    },
    {
      "cell_type": "code",
      "source": [
        "train= data[:training_data_len]\n",
        "valid= data[training_data_len:]\n",
        "valid['Predictions']= predictions"
      ],
      "metadata": {
        "colab": {
          "base_uri": "https://localhost:8080/"
        },
        "id": "18BE5QAOD7Gn",
        "outputId": "d134058a-4a40-4f14-ec8e-4a3f35217621"
      },
      "execution_count": 42,
      "outputs": [
        {
          "output_type": "stream",
          "name": "stderr",
          "text": [
            "/usr/local/lib/python3.7/dist-packages/ipykernel_launcher.py:3: SettingWithCopyWarning: \n",
            "A value is trying to be set on a copy of a slice from a DataFrame.\n",
            "Try using .loc[row_indexer,col_indexer] = value instead\n",
            "\n",
            "See the caveats in the documentation: https://pandas.pydata.org/pandas-docs/stable/user_guide/indexing.html#returning-a-view-versus-a-copy\n",
            "  This is separate from the ipykernel package so we can avoid doing imports until\n"
          ]
        }
      ]
    },
    {
      "cell_type": "code",
      "source": [
        "valid"
      ],
      "metadata": {
        "colab": {
          "base_uri": "https://localhost:8080/",
          "height": 424
        },
        "id": "eJl97zHZEHxv",
        "outputId": "2eb6c618-22c0-4527-db18-b95de767112a"
      },
      "execution_count": 43,
      "outputs": [
        {
          "output_type": "execute_result",
          "data": {
            "text/plain": [
              "            Close  Predictions\n",
              "2561  2675.080078  2835.484131\n",
              "2562  2836.530029  2948.375732\n",
              "2563  2756.610107  3074.248047\n",
              "2564  2763.419922  3176.227783\n",
              "2565  2582.580078  3256.086426\n",
              "...           ...          ...\n",
              "3196  5236.259766  6730.354492\n",
              "3197  5289.750000  6754.932617\n",
              "3198  5295.529785  6792.410156\n",
              "3199  5326.180176  6832.020020\n",
              "3200  5305.740234  6873.535156\n",
              "\n",
              "[640 rows x 2 columns]"
            ],
            "text/html": [
              "\n",
              "  <div id=\"df-cf3973f7-2df8-4f73-93ea-c3ac94cabfa1\">\n",
              "    <div class=\"colab-df-container\">\n",
              "      <div>\n",
              "<style scoped>\n",
              "    .dataframe tbody tr th:only-of-type {\n",
              "        vertical-align: middle;\n",
              "    }\n",
              "\n",
              "    .dataframe tbody tr th {\n",
              "        vertical-align: top;\n",
              "    }\n",
              "\n",
              "    .dataframe thead th {\n",
              "        text-align: right;\n",
              "    }\n",
              "</style>\n",
              "<table border=\"1\" class=\"dataframe\">\n",
              "  <thead>\n",
              "    <tr style=\"text-align: right;\">\n",
              "      <th></th>\n",
              "      <th>Close</th>\n",
              "      <th>Predictions</th>\n",
              "    </tr>\n",
              "  </thead>\n",
              "  <tbody>\n",
              "    <tr>\n",
              "      <th>2561</th>\n",
              "      <td>2675.080078</td>\n",
              "      <td>2835.484131</td>\n",
              "    </tr>\n",
              "    <tr>\n",
              "      <th>2562</th>\n",
              "      <td>2836.530029</td>\n",
              "      <td>2948.375732</td>\n",
              "    </tr>\n",
              "    <tr>\n",
              "      <th>2563</th>\n",
              "      <td>2756.610107</td>\n",
              "      <td>3074.248047</td>\n",
              "    </tr>\n",
              "    <tr>\n",
              "      <th>2564</th>\n",
              "      <td>2763.419922</td>\n",
              "      <td>3176.227783</td>\n",
              "    </tr>\n",
              "    <tr>\n",
              "      <th>2565</th>\n",
              "      <td>2582.580078</td>\n",
              "      <td>3256.086426</td>\n",
              "    </tr>\n",
              "    <tr>\n",
              "      <th>...</th>\n",
              "      <td>...</td>\n",
              "      <td>...</td>\n",
              "    </tr>\n",
              "    <tr>\n",
              "      <th>3196</th>\n",
              "      <td>5236.259766</td>\n",
              "      <td>6730.354492</td>\n",
              "    </tr>\n",
              "    <tr>\n",
              "      <th>3197</th>\n",
              "      <td>5289.750000</td>\n",
              "      <td>6754.932617</td>\n",
              "    </tr>\n",
              "    <tr>\n",
              "      <th>3198</th>\n",
              "      <td>5295.529785</td>\n",
              "      <td>6792.410156</td>\n",
              "    </tr>\n",
              "    <tr>\n",
              "      <th>3199</th>\n",
              "      <td>5326.180176</td>\n",
              "      <td>6832.020020</td>\n",
              "    </tr>\n",
              "    <tr>\n",
              "      <th>3200</th>\n",
              "      <td>5305.740234</td>\n",
              "      <td>6873.535156</td>\n",
              "    </tr>\n",
              "  </tbody>\n",
              "</table>\n",
              "<p>640 rows × 2 columns</p>\n",
              "</div>\n",
              "      <button class=\"colab-df-convert\" onclick=\"convertToInteractive('df-cf3973f7-2df8-4f73-93ea-c3ac94cabfa1')\"\n",
              "              title=\"Convert this dataframe to an interactive table.\"\n",
              "              style=\"display:none;\">\n",
              "        \n",
              "  <svg xmlns=\"http://www.w3.org/2000/svg\" height=\"24px\"viewBox=\"0 0 24 24\"\n",
              "       width=\"24px\">\n",
              "    <path d=\"M0 0h24v24H0V0z\" fill=\"none\"/>\n",
              "    <path d=\"M18.56 5.44l.94 2.06.94-2.06 2.06-.94-2.06-.94-.94-2.06-.94 2.06-2.06.94zm-11 1L8.5 8.5l.94-2.06 2.06-.94-2.06-.94L8.5 2.5l-.94 2.06-2.06.94zm10 10l.94 2.06.94-2.06 2.06-.94-2.06-.94-.94-2.06-.94 2.06-2.06.94z\"/><path d=\"M17.41 7.96l-1.37-1.37c-.4-.4-.92-.59-1.43-.59-.52 0-1.04.2-1.43.59L10.3 9.45l-7.72 7.72c-.78.78-.78 2.05 0 2.83L4 21.41c.39.39.9.59 1.41.59.51 0 1.02-.2 1.41-.59l7.78-7.78 2.81-2.81c.8-.78.8-2.07 0-2.86zM5.41 20L4 18.59l7.72-7.72 1.47 1.35L5.41 20z\"/>\n",
              "  </svg>\n",
              "      </button>\n",
              "      \n",
              "  <style>\n",
              "    .colab-df-container {\n",
              "      display:flex;\n",
              "      flex-wrap:wrap;\n",
              "      gap: 12px;\n",
              "    }\n",
              "\n",
              "    .colab-df-convert {\n",
              "      background-color: #E8F0FE;\n",
              "      border: none;\n",
              "      border-radius: 50%;\n",
              "      cursor: pointer;\n",
              "      display: none;\n",
              "      fill: #1967D2;\n",
              "      height: 32px;\n",
              "      padding: 0 0 0 0;\n",
              "      width: 32px;\n",
              "    }\n",
              "\n",
              "    .colab-df-convert:hover {\n",
              "      background-color: #E2EBFA;\n",
              "      box-shadow: 0px 1px 2px rgba(60, 64, 67, 0.3), 0px 1px 3px 1px rgba(60, 64, 67, 0.15);\n",
              "      fill: #174EA6;\n",
              "    }\n",
              "\n",
              "    [theme=dark] .colab-df-convert {\n",
              "      background-color: #3B4455;\n",
              "      fill: #D2E3FC;\n",
              "    }\n",
              "\n",
              "    [theme=dark] .colab-df-convert:hover {\n",
              "      background-color: #434B5C;\n",
              "      box-shadow: 0px 1px 3px 1px rgba(0, 0, 0, 0.15);\n",
              "      filter: drop-shadow(0px 1px 2px rgba(0, 0, 0, 0.3));\n",
              "      fill: #FFFFFF;\n",
              "    }\n",
              "  </style>\n",
              "\n",
              "      <script>\n",
              "        const buttonEl =\n",
              "          document.querySelector('#df-cf3973f7-2df8-4f73-93ea-c3ac94cabfa1 button.colab-df-convert');\n",
              "        buttonEl.style.display =\n",
              "          google.colab.kernel.accessAllowed ? 'block' : 'none';\n",
              "\n",
              "        async function convertToInteractive(key) {\n",
              "          const element = document.querySelector('#df-cf3973f7-2df8-4f73-93ea-c3ac94cabfa1');\n",
              "          const dataTable =\n",
              "            await google.colab.kernel.invokeFunction('convertToInteractive',\n",
              "                                                     [key], {});\n",
              "          if (!dataTable) return;\n",
              "\n",
              "          const docLinkHtml = 'Like what you see? Visit the ' +\n",
              "            '<a target=\"_blank\" href=https://colab.research.google.com/notebooks/data_table.ipynb>data table notebook</a>'\n",
              "            + ' to learn more about interactive tables.';\n",
              "          element.innerHTML = '';\n",
              "          dataTable['output_type'] = 'display_data';\n",
              "          await google.colab.output.renderOutput(dataTable, element);\n",
              "          const docLink = document.createElement('div');\n",
              "          docLink.innerHTML = docLinkHtml;\n",
              "          element.appendChild(docLink);\n",
              "        }\n",
              "      </script>\n",
              "    </div>\n",
              "  </div>\n",
              "  "
            ]
          },
          "metadata": {},
          "execution_count": 43
        }
      ]
    },
    {
      "cell_type": "code",
      "source": [
        "new_df= df.filter(['Close'])\n",
        "last_60_days = new_df[-60:].values\n",
        "last_60_days_scaled=scaler.transform(last_60_days)\n",
        "X_test = []\n",
        "X_test.append(last_60_days_scaled)\n",
        "X_test = np.array(X_test)\n",
        "X_test= np.reshape(X_test, (X_test.shape[0], X_test.shape[1], 1))\n",
        "pred_price = model.predict(X_test)\n",
        "pred_price=scaler.inverse_transform(pred_price)\n",
        "print(pred_price)"
      ],
      "metadata": {
        "colab": {
          "base_uri": "https://localhost:8080/"
        },
        "id": "gF7jO8mJEuoA",
        "outputId": "6f2ec5cd-1995-4125-a582-5d2c699327ee"
      },
      "execution_count": 60,
      "outputs": [
        {
          "output_type": "stream",
          "name": "stdout",
          "text": [
            "[[6907.0327]]\n"
          ]
        }
      ]
    },
    {
      "cell_type": "code",
      "source": [
        "# Create a Pickle file  \n",
        "import pickle\n",
        "pickle_out = open(\"model.pkl\",\"wb\")\n",
        "pickle.dump(model, pickle_out)\n",
        "pickle_out.close()"
      ],
      "metadata": {
        "colab": {
          "base_uri": "https://localhost:8080/"
        },
        "id": "c9nRJexmIfUl",
        "outputId": "2122f6eb-344d-4585-c84e-0b99f271df75"
      },
      "execution_count": 61,
      "outputs": [
        {
          "output_type": "stream",
          "name": "stderr",
          "text": [
            "WARNING:absl:Found untraced functions such as lstm_cell_layer_call_fn, lstm_cell_layer_call_and_return_conditional_losses, lstm_cell_1_layer_call_fn, lstm_cell_1_layer_call_and_return_conditional_losses while saving (showing 4 of 4). These functions will not be directly callable after loading.\n",
            "WARNING:absl:<keras.layers.recurrent.LSTMCell object at 0x7fe6150c3690> has the same name 'LSTMCell' as a built-in Keras object. Consider renaming <class 'keras.layers.recurrent.LSTMCell'> to avoid naming conflicts when loading with `tf.keras.models.load_model`. If renaming is not possible, pass the object in the `custom_objects` parameter of the load function.\n",
            "WARNING:absl:<keras.layers.recurrent.LSTMCell object at 0x7fe6112c3f50> has the same name 'LSTMCell' as a built-in Keras object. Consider renaming <class 'keras.layers.recurrent.LSTMCell'> to avoid naming conflicts when loading with `tf.keras.models.load_model`. If renaming is not possible, pass the object in the `custom_objects` parameter of the load function.\n"
          ]
        }
      ]
    },
    {
      "cell_type": "code",
      "source": [
        "with open('model.pkl', 'rb') as f:\n",
        "    x = pickle.load(f)\n",
        "\n"
      ],
      "metadata": {
        "id": "5mhDT02tQLZ3"
      },
      "execution_count": 87,
      "outputs": []
    },
    {
      "cell_type": "code",
      "source": [
        ""
      ],
      "metadata": {
        "id": "2ToGZ0YNQlfG"
      },
      "execution_count": null,
      "outputs": []
    }
  ]
}