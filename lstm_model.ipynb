{
 "cells": [
  {
   "cell_type": "code",
   "execution_count": 1,
   "metadata": {},
   "outputs": [
    {
     "name": "stdout",
     "output_type": "stream",
     "text": [
      "Requirement already satisfied: keras in c:\\users\\saketh\\appdata\\local\\programs\\python\\python37\\lib\\site-packages (2.9.0)\n",
      "Note: you may need to restart the kernel to use updated packages.\n"
     ]
    }
   ],
   "source": [
    "pip install keras"
   ]
  },
  {
   "cell_type": "code",
   "execution_count": 2,
   "metadata": {},
   "outputs": [
    {
     "name": "stdout",
     "output_type": "stream",
     "text": [
      "Requirement already satisfied: tensorflow in c:\\users\\saketh\\appdata\\local\\programs\\python\\python37\\lib\\site-packages (2.9.1)\n",
      "Requirement already satisfied: h5py>=2.9.0 in c:\\users\\saketh\\appdata\\local\\programs\\python\\python37\\lib\\site-packages (from tensorflow) (3.7.0)\n",
      "Requirement already satisfied: tensorboard<2.10,>=2.9 in c:\\users\\saketh\\appdata\\local\\programs\\python\\python37\\lib\\site-packages (from tensorflow) (2.9.1)\n",
      "Requirement already satisfied: astunparse>=1.6.0 in c:\\users\\saketh\\appdata\\local\\programs\\python\\python37\\lib\\site-packages (from tensorflow) (1.6.3)\n",
      "Requirement already satisfied: google-pasta>=0.1.1 in c:\\users\\saketh\\appdata\\local\\programs\\python\\python37\\lib\\site-packages (from tensorflow) (0.2.0)\n",
      "Requirement already satisfied: libclang>=13.0.0 in c:\\users\\saketh\\appdata\\local\\programs\\python\\python37\\lib\\site-packages (from tensorflow) (14.0.6)\n",
      "Requirement already satisfied: tensorflow-io-gcs-filesystem>=0.23.1 in c:\\users\\saketh\\appdata\\local\\programs\\python\\python37\\lib\\site-packages (from tensorflow) (0.26.0)\n",
      "Requirement already satisfied: numpy>=1.20 in c:\\users\\saketh\\appdata\\local\\programs\\python\\python37\\lib\\site-packages (from tensorflow) (1.21.6)\n",
      "Requirement already satisfied: wrapt>=1.11.0 in c:\\users\\saketh\\appdata\\local\\programs\\python\\python37\\lib\\site-packages (from tensorflow) (1.14.1)\n",
      "Requirement already satisfied: protobuf<3.20,>=3.9.2 in c:\\users\\saketh\\appdata\\local\\programs\\python\\python37\\lib\\site-packages (from tensorflow) (3.19.4)\n",
      "Requirement already satisfied: six>=1.12.0 in c:\\users\\saketh\\appdata\\local\\programs\\python\\python37\\lib\\site-packages (from tensorflow) (1.15.0)\n",
      "Requirement already satisfied: setuptools in c:\\users\\saketh\\appdata\\local\\programs\\python\\python37\\lib\\site-packages (from tensorflow) (63.4.2)\n",
      "Requirement already satisfied: grpcio<2.0,>=1.24.3 in c:\\users\\saketh\\appdata\\local\\programs\\python\\python37\\lib\\site-packages (from tensorflow) (1.47.0)\n",
      "Requirement already satisfied: keras-preprocessing>=1.1.1 in c:\\users\\saketh\\appdata\\local\\programs\\python\\python37\\lib\\site-packages (from tensorflow) (1.1.2)\n",
      "Requirement already satisfied: typing-extensions>=3.6.6 in c:\\users\\saketh\\appdata\\local\\programs\\python\\python37\\lib\\site-packages (from tensorflow) (4.1.1)\n",
      "Requirement already satisfied: keras<2.10.0,>=2.9.0rc0 in c:\\users\\saketh\\appdata\\local\\programs\\python\\python37\\lib\\site-packages (from tensorflow) (2.9.0)\n",
      "Requirement already satisfied: packaging in c:\\users\\saketh\\appdata\\local\\programs\\python\\python37\\lib\\site-packages (from tensorflow) (21.3)\n",
      "Requirement already satisfied: gast<=0.4.0,>=0.2.1 in c:\\users\\saketh\\appdata\\local\\programs\\python\\python37\\lib\\site-packages (from tensorflow) (0.4.0)\n",
      "Requirement already satisfied: absl-py>=1.0.0 in c:\\users\\saketh\\appdata\\local\\programs\\python\\python37\\lib\\site-packages (from tensorflow) (1.2.0)\n",
      "Requirement already satisfied: opt-einsum>=2.3.2 in c:\\users\\saketh\\appdata\\local\\programs\\python\\python37\\lib\\site-packages (from tensorflow) (3.3.0)\n",
      "Requirement already satisfied: termcolor>=1.1.0 in c:\\users\\saketh\\appdata\\local\\programs\\python\\python37\\lib\\site-packages (from tensorflow) (1.1.0)\n",
      "Requirement already satisfied: flatbuffers<2,>=1.12 in c:\\users\\saketh\\appdata\\local\\programs\\python\\python37\\lib\\site-packages (from tensorflow) (1.12)\n",
      "Requirement already satisfied: tensorflow-estimator<2.10.0,>=2.9.0rc0 in c:\\users\\saketh\\appdata\\local\\programs\\python\\python37\\lib\\site-packages (from tensorflow) (2.9.0)\n",
      "Requirement already satisfied: wheel<1.0,>=0.23.0 in c:\\users\\saketh\\appdata\\local\\programs\\python\\python37\\lib\\site-packages (from astunparse>=1.6.0->tensorflow) (0.37.1)\n",
      "Requirement already satisfied: google-auth-oauthlib<0.5,>=0.4.1 in c:\\users\\saketh\\appdata\\local\\programs\\python\\python37\\lib\\site-packages (from tensorboard<2.10,>=2.9->tensorflow) (0.4.6)\n",
      "Requirement already satisfied: requests<3,>=2.21.0 in c:\\users\\saketh\\appdata\\local\\programs\\python\\python37\\lib\\site-packages (from tensorboard<2.10,>=2.9->tensorflow) (2.21.0)\n",
      "Requirement already satisfied: tensorboard-plugin-wit>=1.6.0 in c:\\users\\saketh\\appdata\\local\\programs\\python\\python37\\lib\\site-packages (from tensorboard<2.10,>=2.9->tensorflow) (1.8.1)\n",
      "Requirement already satisfied: werkzeug>=1.0.1 in c:\\users\\saketh\\appdata\\local\\programs\\python\\python37\\lib\\site-packages (from tensorboard<2.10,>=2.9->tensorflow) (1.0.1)\n",
      "Requirement already satisfied: tensorboard-data-server<0.7.0,>=0.6.0 in c:\\users\\saketh\\appdata\\local\\programs\\python\\python37\\lib\\site-packages (from tensorboard<2.10,>=2.9->tensorflow) (0.6.1)\n",
      "Requirement already satisfied: google-auth<3,>=1.6.3 in c:\\users\\saketh\\appdata\\local\\programs\\python\\python37\\lib\\site-packages (from tensorboard<2.10,>=2.9->tensorflow) (2.10.0)\n",
      "Requirement already satisfied: markdown>=2.6.8 in c:\\users\\saketh\\appdata\\local\\programs\\python\\python37\\lib\\site-packages (from tensorboard<2.10,>=2.9->tensorflow) (3.4.1)\n",
      "Requirement already satisfied: pyparsing!=3.0.5,>=2.0.2 in c:\\users\\saketh\\appdata\\local\\programs\\python\\python37\\lib\\site-packages (from packaging->tensorflow) (2.4.7)\n",
      "Requirement already satisfied: cachetools<6.0,>=2.0.0 in c:\\users\\saketh\\appdata\\local\\programs\\python\\python37\\lib\\site-packages (from google-auth<3,>=1.6.3->tensorboard<2.10,>=2.9->tensorflow) (5.2.0)\n",
      "Requirement already satisfied: pyasn1-modules>=0.2.1 in c:\\users\\saketh\\appdata\\local\\programs\\python\\python37\\lib\\site-packages (from google-auth<3,>=1.6.3->tensorboard<2.10,>=2.9->tensorflow) (0.2.8)\n",
      "Requirement already satisfied: rsa<5,>=3.1.4 in c:\\users\\saketh\\appdata\\local\\programs\\python\\python37\\lib\\site-packages (from google-auth<3,>=1.6.3->tensorboard<2.10,>=2.9->tensorflow) (4.9)\n",
      "Requirement already satisfied: requests-oauthlib>=0.7.0 in c:\\users\\saketh\\appdata\\local\\programs\\python\\python37\\lib\\site-packages (from google-auth-oauthlib<0.5,>=0.4.1->tensorboard<2.10,>=2.9->tensorflow) (1.2.0)\n",
      "Requirement already satisfied: importlib-metadata>=4.4 in c:\\users\\saketh\\appdata\\local\\programs\\python\\python37\\lib\\site-packages (from markdown>=2.6.8->tensorboard<2.10,>=2.9->tensorflow) (4.12.0)\n",
      "Requirement already satisfied: certifi>=2017.4.17 in c:\\users\\saketh\\appdata\\local\\programs\\python\\python37\\lib\\site-packages (from requests<3,>=2.21.0->tensorboard<2.10,>=2.9->tensorflow) (2019.3.9)\n",
      "Requirement already satisfied: chardet<3.1.0,>=3.0.2 in c:\\users\\saketh\\appdata\\local\\programs\\python\\python37\\lib\\site-packages (from requests<3,>=2.21.0->tensorboard<2.10,>=2.9->tensorflow) (3.0.4)\n",
      "Requirement already satisfied: urllib3<1.25,>=1.21.1 in c:\\users\\saketh\\appdata\\local\\programs\\python\\python37\\lib\\site-packages (from requests<3,>=2.21.0->tensorboard<2.10,>=2.9->tensorflow) (1.24.2)\n",
      "Requirement already satisfied: idna<2.9,>=2.5 in c:\\users\\saketh\\appdata\\local\\programs\\python\\python37\\lib\\site-packages (from requests<3,>=2.21.0->tensorboard<2.10,>=2.9->tensorflow) (2.8)\n",
      "Requirement already satisfied: zipp>=0.5 in c:\\users\\saketh\\appdata\\local\\programs\\python\\python37\\lib\\site-packages (from importlib-metadata>=4.4->markdown>=2.6.8->tensorboard<2.10,>=2.9->tensorflow) (3.8.1)\n",
      "Requirement already satisfied: pyasn1<0.5.0,>=0.4.6 in c:\\users\\saketh\\appdata\\local\\programs\\python\\python37\\lib\\site-packages (from pyasn1-modules>=0.2.1->google-auth<3,>=1.6.3->tensorboard<2.10,>=2.9->tensorflow) (0.4.8)\n",
      "Requirement already satisfied: oauthlib>=3.0.0 in c:\\users\\saketh\\appdata\\local\\programs\\python\\python37\\lib\\site-packages (from requests-oauthlib>=0.7.0->google-auth-oauthlib<0.5,>=0.4.1->tensorboard<2.10,>=2.9->tensorflow) (3.0.1)\n",
      "Note: you may need to restart the kernel to use updated packages.\n"
     ]
    }
   ],
   "source": [
    "pip install tensorflow"
   ]
  },
  {
   "cell_type": "code",
   "execution_count": 3,
   "metadata": {},
   "outputs": [
    {
     "name": "stdout",
     "output_type": "stream",
     "text": [
      "Requirement already satisfied: streamlit in c:\\users\\saketh\\appdata\\local\\programs\\python\\python37\\lib\\site-packages (1.11.1)\n",
      "Requirement already satisfied: altair>=3.2.0 in c:\\users\\saketh\\appdata\\local\\programs\\python\\python37\\lib\\site-packages (from streamlit) (4.2.0)\n",
      "Requirement already satisfied: pillow>=6.2.0 in c:\\users\\saketh\\appdata\\local\\programs\\python\\python37\\lib\\site-packages (from streamlit) (7.2.0)\n",
      "Requirement already satisfied: gitpython!=3.1.19 in c:\\users\\saketh\\appdata\\local\\programs\\python\\python37\\lib\\site-packages (from streamlit) (3.1.27)\n",
      "Requirement already satisfied: toml in c:\\users\\saketh\\appdata\\local\\programs\\python\\python37\\lib\\site-packages (from streamlit) (0.10.2)\n",
      "Requirement already satisfied: importlib-metadata>=1.4 in c:\\users\\saketh\\appdata\\local\\programs\\python\\python37\\lib\\site-packages (from streamlit) (4.12.0)\n",
      "Requirement already satisfied: pympler>=0.9 in c:\\users\\saketh\\appdata\\local\\programs\\python\\python37\\lib\\site-packages (from streamlit) (1.0.1)\n",
      "Requirement already satisfied: watchdog in c:\\users\\saketh\\appdata\\local\\programs\\python\\python37\\lib\\site-packages (from streamlit) (2.1.9)\n",
      "Requirement already satisfied: protobuf<4,>=3.12 in c:\\users\\saketh\\appdata\\local\\programs\\python\\python37\\lib\\site-packages (from streamlit) (3.19.4)\n",
      "Requirement already satisfied: numpy in c:\\users\\saketh\\appdata\\local\\programs\\python\\python37\\lib\\site-packages (from streamlit) (1.21.6)\n",
      "Requirement already satisfied: python-dateutil in c:\\users\\saketh\\appdata\\local\\programs\\python\\python37\\lib\\site-packages (from streamlit) (2.8.2)\n",
      "Requirement already satisfied: pyarrow>=4.0 in c:\\users\\saketh\\appdata\\local\\programs\\python\\python37\\lib\\site-packages (from streamlit) (9.0.0)\n",
      "Requirement already satisfied: semver in c:\\users\\saketh\\appdata\\local\\programs\\python\\python37\\lib\\site-packages (from streamlit) (2.13.0)\n",
      "Requirement already satisfied: blinker>=1.0.0 in c:\\users\\saketh\\appdata\\local\\programs\\python\\python37\\lib\\site-packages (from streamlit) (1.5)\n",
      "Requirement already satisfied: validators>=0.2 in c:\\users\\saketh\\appdata\\local\\programs\\python\\python37\\lib\\site-packages (from streamlit) (0.20.0)\n",
      "Requirement already satisfied: tornado>=5.0 in c:\\users\\saketh\\appdata\\local\\programs\\python\\python37\\lib\\site-packages (from streamlit) (6.2)\n",
      "Requirement already satisfied: tzlocal>=1.1 in c:\\users\\saketh\\appdata\\local\\programs\\python\\python37\\lib\\site-packages (from streamlit) (4.2)\n",
      "Requirement already satisfied: attrs>=16.0.0 in c:\\users\\saketh\\appdata\\local\\programs\\python\\python37\\lib\\site-packages (from streamlit) (22.1.0)\n",
      "Requirement already satisfied: packaging>=14.1 in c:\\users\\saketh\\appdata\\local\\programs\\python\\python37\\lib\\site-packages (from streamlit) (21.3)\n",
      "Requirement already satisfied: click>=7.0 in c:\\users\\saketh\\appdata\\local\\programs\\python\\python37\\lib\\site-packages (from streamlit) (7.1.2)\n",
      "Requirement already satisfied: requests>=2.4 in c:\\users\\saketh\\appdata\\local\\programs\\python\\python37\\lib\\site-packages (from streamlit) (2.21.0)\n",
      "Requirement already satisfied: pydeck>=0.1.dev5 in c:\\users\\saketh\\appdata\\local\\programs\\python\\python37\\lib\\site-packages (from streamlit) (0.7.1)\n",
      "Requirement already satisfied: cachetools>=4.0 in c:\\users\\saketh\\appdata\\local\\programs\\python\\python37\\lib\\site-packages (from streamlit) (5.2.0)\n",
      "Requirement already satisfied: pandas>=0.21.0 in c:\\users\\saketh\\appdata\\local\\programs\\python\\python37\\lib\\site-packages (from streamlit) (1.1.0)\n",
      "Requirement already satisfied: typing-extensions>=3.10.0.0 in c:\\users\\saketh\\appdata\\local\\programs\\python\\python37\\lib\\site-packages (from streamlit) (4.1.1)\n",
      "Requirement already satisfied: rich>=10.11.0 in c:\\users\\saketh\\appdata\\local\\programs\\python\\python37\\lib\\site-packages (from streamlit) (12.5.1)\n",
      "Requirement already satisfied: toolz in c:\\users\\saketh\\appdata\\local\\programs\\python\\python37\\lib\\site-packages (from altair>=3.2.0->streamlit) (0.12.0)\n",
      "Requirement already satisfied: jinja2 in c:\\users\\saketh\\appdata\\local\\programs\\python\\python37\\lib\\site-packages (from altair>=3.2.0->streamlit) (3.1.2)\n",
      "Requirement already satisfied: jsonschema>=3.0 in c:\\users\\saketh\\appdata\\local\\programs\\python\\python37\\lib\\site-packages (from altair>=3.2.0->streamlit) (4.9.1)\n",
      "Requirement already satisfied: entrypoints in c:\\users\\saketh\\appdata\\local\\programs\\python\\python37\\lib\\site-packages (from altair>=3.2.0->streamlit) (0.4)\n",
      "Requirement already satisfied: gitdb<5,>=4.0.1 in c:\\users\\saketh\\appdata\\local\\programs\\python\\python37\\lib\\site-packages (from gitpython!=3.1.19->streamlit) (4.0.9)\n",
      "Requirement already satisfied: zipp>=0.5 in c:\\users\\saketh\\appdata\\local\\programs\\python\\python37\\lib\\site-packages (from importlib-metadata>=1.4->streamlit) (3.8.1)\n",
      "Requirement already satisfied: pyparsing!=3.0.5,>=2.0.2 in c:\\users\\saketh\\appdata\\local\\programs\\python\\python37\\lib\\site-packages (from packaging>=14.1->streamlit) (2.4.7)\n",
      "Requirement already satisfied: pytz>=2017.2 in c:\\users\\saketh\\appdata\\local\\programs\\python\\python37\\lib\\site-packages (from pandas>=0.21.0->streamlit) (2020.1)\n",
      "Requirement already satisfied: ipykernel>=5.1.2 in c:\\users\\saketh\\appdata\\local\\programs\\python\\python37\\lib\\site-packages (from pydeck>=0.1.dev5->streamlit) (6.15.1)\n",
      "Requirement already satisfied: ipywidgets>=7.0.0 in c:\\users\\saketh\\appdata\\local\\programs\\python\\python37\\lib\\site-packages (from pydeck>=0.1.dev5->streamlit) (7.7.1)\n",
      "Requirement already satisfied: traitlets>=4.3.2 in c:\\users\\saketh\\appdata\\local\\programs\\python\\python37\\lib\\site-packages (from pydeck>=0.1.dev5->streamlit) (5.3.0)\n",
      "Requirement already satisfied: six>=1.5 in c:\\users\\saketh\\appdata\\local\\programs\\python\\python37\\lib\\site-packages (from python-dateutil->streamlit) (1.15.0)\n",
      "Requirement already satisfied: certifi>=2017.4.17 in c:\\users\\saketh\\appdata\\local\\programs\\python\\python37\\lib\\site-packages (from requests>=2.4->streamlit) (2019.3.9)\n",
      "Requirement already satisfied: idna<2.9,>=2.5 in c:\\users\\saketh\\appdata\\local\\programs\\python\\python37\\lib\\site-packages (from requests>=2.4->streamlit) (2.8)\n",
      "Requirement already satisfied: urllib3<1.25,>=1.21.1 in c:\\users\\saketh\\appdata\\local\\programs\\python\\python37\\lib\\site-packages (from requests>=2.4->streamlit) (1.24.2)\n",
      "Requirement already satisfied: chardet<3.1.0,>=3.0.2 in c:\\users\\saketh\\appdata\\local\\programs\\python\\python37\\lib\\site-packages (from requests>=2.4->streamlit) (3.0.4)\n",
      "Requirement already satisfied: pygments<3.0.0,>=2.6.0 in c:\\users\\saketh\\appdata\\local\\programs\\python\\python37\\lib\\site-packages (from rich>=10.11.0->streamlit) (2.12.0)\n",
      "Requirement already satisfied: commonmark<0.10.0,>=0.9.0 in c:\\users\\saketh\\appdata\\local\\programs\\python\\python37\\lib\\site-packages (from rich>=10.11.0->streamlit) (0.9.1)\n",
      "Requirement already satisfied: backports.zoneinfo in c:\\users\\saketh\\appdata\\local\\programs\\python\\python37\\lib\\site-packages (from tzlocal>=1.1->streamlit) (0.2.1)\n",
      "Requirement already satisfied: pytz-deprecation-shim in c:\\users\\saketh\\appdata\\local\\programs\\python\\python37\\lib\\site-packages (from tzlocal>=1.1->streamlit) (0.1.0.post0)\n",
      "Requirement already satisfied: tzdata in c:\\users\\saketh\\appdata\\local\\programs\\python\\python37\\lib\\site-packages (from tzlocal>=1.1->streamlit) (2022.1)\n",
      "Requirement already satisfied: decorator>=3.4.0 in c:\\users\\saketh\\appdata\\local\\programs\\python\\python37\\lib\\site-packages (from validators>=0.2->streamlit) (5.1.1)\n",
      "Requirement already satisfied: smmap<6,>=3.0.1 in c:\\users\\saketh\\appdata\\local\\programs\\python\\python37\\lib\\site-packages (from gitdb<5,>=4.0.1->gitpython!=3.1.19->streamlit) (5.0.0)\n",
      "Requirement already satisfied: matplotlib-inline>=0.1 in c:\\users\\saketh\\appdata\\local\\programs\\python\\python37\\lib\\site-packages (from ipykernel>=5.1.2->pydeck>=0.1.dev5->streamlit) (0.1.3)\n",
      "Requirement already satisfied: debugpy>=1.0 in c:\\users\\saketh\\appdata\\local\\programs\\python\\python37\\lib\\site-packages (from ipykernel>=5.1.2->pydeck>=0.1.dev5->streamlit) (1.6.2)\n",
      "Requirement already satisfied: psutil in c:\\users\\saketh\\appdata\\local\\programs\\python\\python37\\lib\\site-packages (from ipykernel>=5.1.2->pydeck>=0.1.dev5->streamlit) (5.9.1)\n",
      "Requirement already satisfied: nest-asyncio in c:\\users\\saketh\\appdata\\local\\programs\\python\\python37\\lib\\site-packages (from ipykernel>=5.1.2->pydeck>=0.1.dev5->streamlit) (1.5.5)\n",
      "Requirement already satisfied: jupyter-client>=6.1.12 in c:\\users\\saketh\\appdata\\local\\programs\\python\\python37\\lib\\site-packages (from ipykernel>=5.1.2->pydeck>=0.1.dev5->streamlit) (7.3.4)\n",
      "Requirement already satisfied: pyzmq>=17 in c:\\users\\saketh\\appdata\\local\\programs\\python\\python37\\lib\\site-packages (from ipykernel>=5.1.2->pydeck>=0.1.dev5->streamlit) (23.2.0)\n",
      "Requirement already satisfied: ipython>=7.23.1 in c:\\users\\saketh\\appdata\\local\\programs\\python\\python37\\lib\\site-packages (from ipykernel>=5.1.2->pydeck>=0.1.dev5->streamlit) (7.34.0)\n",
      "Requirement already satisfied: jupyterlab-widgets>=1.0.0 in c:\\users\\saketh\\appdata\\local\\programs\\python\\python37\\lib\\site-packages (from ipywidgets>=7.0.0->pydeck>=0.1.dev5->streamlit) (1.1.1)\n",
      "Requirement already satisfied: widgetsnbextension~=3.6.0 in c:\\users\\saketh\\appdata\\local\\programs\\python\\python37\\lib\\site-packages (from ipywidgets>=7.0.0->pydeck>=0.1.dev5->streamlit) (3.6.1)\n",
      "Requirement already satisfied: ipython-genutils~=0.2.0 in c:\\users\\saketh\\appdata\\local\\programs\\python\\python37\\lib\\site-packages (from ipywidgets>=7.0.0->pydeck>=0.1.dev5->streamlit) (0.2.0)\n",
      "Requirement already satisfied: MarkupSafe>=2.0 in c:\\users\\saketh\\appdata\\local\\programs\\python\\python37\\lib\\site-packages (from jinja2->altair>=3.2.0->streamlit) (2.1.1)\n",
      "Requirement already satisfied: pkgutil-resolve-name>=1.3.10 in c:\\users\\saketh\\appdata\\local\\programs\\python\\python37\\lib\\site-packages (from jsonschema>=3.0->altair>=3.2.0->streamlit) (1.3.10)\n",
      "Requirement already satisfied: importlib-resources>=1.4.0 in c:\\users\\saketh\\appdata\\local\\programs\\python\\python37\\lib\\site-packages (from jsonschema>=3.0->altair>=3.2.0->streamlit) (5.9.0)\n",
      "Requirement already satisfied: pyrsistent!=0.17.0,!=0.17.1,!=0.17.2,>=0.14.0 in c:\\users\\saketh\\appdata\\local\\programs\\python\\python37\\lib\\site-packages (from jsonschema>=3.0->altair>=3.2.0->streamlit) (0.18.1)\n",
      "Requirement already satisfied: colorama in c:\\users\\saketh\\appdata\\local\\programs\\python\\python37\\lib\\site-packages (from ipython>=7.23.1->ipykernel>=5.1.2->pydeck>=0.1.dev5->streamlit) (0.4.5)\n",
      "Requirement already satisfied: backcall in c:\\users\\saketh\\appdata\\local\\programs\\python\\python37\\lib\\site-packages (from ipython>=7.23.1->ipykernel>=5.1.2->pydeck>=0.1.dev5->streamlit) (0.2.0)\n",
      "Requirement already satisfied: jedi>=0.16 in c:\\users\\saketh\\appdata\\local\\programs\\python\\python37\\lib\\site-packages (from ipython>=7.23.1->ipykernel>=5.1.2->pydeck>=0.1.dev5->streamlit) (0.18.1)\n",
      "Requirement already satisfied: pickleshare in c:\\users\\saketh\\appdata\\roaming\\python\\python37\\site-packages (from ipython>=7.23.1->ipykernel>=5.1.2->pydeck>=0.1.dev5->streamlit) (0.7.5)\n",
      "Requirement already satisfied: setuptools>=18.5 in c:\\users\\saketh\\appdata\\local\\programs\\python\\python37\\lib\\site-packages (from ipython>=7.23.1->ipykernel>=5.1.2->pydeck>=0.1.dev5->streamlit) (63.4.2)\n",
      "Requirement already satisfied: prompt-toolkit!=3.0.0,!=3.0.1,<3.1.0,>=2.0.0 in c:\\users\\saketh\\appdata\\local\\programs\\python\\python37\\lib\\site-packages (from ipython>=7.23.1->ipykernel>=5.1.2->pydeck>=0.1.dev5->streamlit) (3.0.30)\n",
      "Requirement already satisfied: jupyter-core>=4.9.2 in c:\\users\\saketh\\appdata\\local\\programs\\python\\python37\\lib\\site-packages (from jupyter-client>=6.1.12->ipykernel>=5.1.2->pydeck>=0.1.dev5->streamlit) (4.11.1)\n",
      "Requirement already satisfied: notebook>=4.4.1 in c:\\users\\saketh\\appdata\\local\\programs\\python\\python37\\lib\\site-packages (from widgetsnbextension~=3.6.0->ipywidgets>=7.0.0->pydeck>=0.1.dev5->streamlit) (6.4.12)\n",
      "Requirement already satisfied: parso<0.9.0,>=0.8.0 in c:\\users\\saketh\\appdata\\local\\programs\\python\\python37\\lib\\site-packages (from jedi>=0.16->ipython>=7.23.1->ipykernel>=5.1.2->pydeck>=0.1.dev5->streamlit) (0.8.3)\n",
      "Requirement already satisfied: pywin32>=1.0 in c:\\users\\saketh\\appdata\\local\\programs\\python\\python37\\lib\\site-packages (from jupyter-core>=4.9.2->jupyter-client>=6.1.12->ipykernel>=5.1.2->pydeck>=0.1.dev5->streamlit) (304)\n",
      "Requirement already satisfied: nbconvert>=5 in c:\\users\\saketh\\appdata\\local\\programs\\python\\python37\\lib\\site-packages (from notebook>=4.4.1->widgetsnbextension~=3.6.0->ipywidgets>=7.0.0->pydeck>=0.1.dev5->streamlit) (6.5.1)\n",
      "Requirement already satisfied: terminado>=0.8.3 in c:\\users\\saketh\\appdata\\local\\programs\\python\\python37\\lib\\site-packages (from notebook>=4.4.1->widgetsnbextension~=3.6.0->ipywidgets>=7.0.0->pydeck>=0.1.dev5->streamlit) (0.15.0)\n",
      "Requirement already satisfied: prometheus-client in c:\\users\\saketh\\appdata\\local\\programs\\python\\python37\\lib\\site-packages (from notebook>=4.4.1->widgetsnbextension~=3.6.0->ipywidgets>=7.0.0->pydeck>=0.1.dev5->streamlit) (0.14.1)\n",
      "Requirement already satisfied: argon2-cffi in c:\\users\\saketh\\appdata\\local\\programs\\python\\python37\\lib\\site-packages (from notebook>=4.4.1->widgetsnbextension~=3.6.0->ipywidgets>=7.0.0->pydeck>=0.1.dev5->streamlit) (21.3.0)\n",
      "Requirement already satisfied: nbformat in c:\\users\\saketh\\appdata\\local\\programs\\python\\python37\\lib\\site-packages (from notebook>=4.4.1->widgetsnbextension~=3.6.0->ipywidgets>=7.0.0->pydeck>=0.1.dev5->streamlit) (5.4.0)\n",
      "Requirement already satisfied: Send2Trash>=1.8.0 in c:\\users\\saketh\\appdata\\local\\programs\\python\\python37\\lib\\site-packages (from notebook>=4.4.1->widgetsnbextension~=3.6.0->ipywidgets>=7.0.0->pydeck>=0.1.dev5->streamlit) (1.8.0)\n",
      "Requirement already satisfied: wcwidth in c:\\users\\saketh\\appdata\\local\\programs\\python\\python37\\lib\\site-packages (from prompt-toolkit!=3.0.0,!=3.0.1,<3.1.0,>=2.0.0->ipython>=7.23.1->ipykernel>=5.1.2->pydeck>=0.1.dev5->streamlit) (0.2.5)\n",
      "Requirement already satisfied: defusedxml in c:\\users\\saketh\\appdata\\local\\programs\\python\\python37\\lib\\site-packages (from nbconvert>=5->notebook>=4.4.1->widgetsnbextension~=3.6.0->ipywidgets>=7.0.0->pydeck>=0.1.dev5->streamlit) (0.7.1)\n",
      "Requirement already satisfied: lxml in c:\\users\\saketh\\appdata\\local\\programs\\python\\python37\\lib\\site-packages (from nbconvert>=5->notebook>=4.4.1->widgetsnbextension~=3.6.0->ipywidgets>=7.0.0->pydeck>=0.1.dev5->streamlit) (4.9.1)\n",
      "Requirement already satisfied: pandocfilters>=1.4.1 in c:\\users\\saketh\\appdata\\local\\programs\\python\\python37\\lib\\site-packages (from nbconvert>=5->notebook>=4.4.1->widgetsnbextension~=3.6.0->ipywidgets>=7.0.0->pydeck>=0.1.dev5->streamlit) (1.5.0)\n",
      "Requirement already satisfied: bleach in c:\\users\\saketh\\appdata\\local\\programs\\python\\python37\\lib\\site-packages (from nbconvert>=5->notebook>=4.4.1->widgetsnbextension~=3.6.0->ipywidgets>=7.0.0->pydeck>=0.1.dev5->streamlit) (5.0.1)\n",
      "Requirement already satisfied: tinycss2 in c:\\users\\saketh\\appdata\\local\\programs\\python\\python37\\lib\\site-packages (from nbconvert>=5->notebook>=4.4.1->widgetsnbextension~=3.6.0->ipywidgets>=7.0.0->pydeck>=0.1.dev5->streamlit) (1.1.1)\n",
      "Requirement already satisfied: mistune<2,>=0.8.1 in c:\\users\\saketh\\appdata\\local\\programs\\python\\python37\\lib\\site-packages (from nbconvert>=5->notebook>=4.4.1->widgetsnbextension~=3.6.0->ipywidgets>=7.0.0->pydeck>=0.1.dev5->streamlit) (0.8.4)\n",
      "Requirement already satisfied: nbclient>=0.5.0 in c:\\users\\saketh\\appdata\\local\\programs\\python\\python37\\lib\\site-packages (from nbconvert>=5->notebook>=4.4.1->widgetsnbextension~=3.6.0->ipywidgets>=7.0.0->pydeck>=0.1.dev5->streamlit) (0.6.6)\n",
      "Requirement already satisfied: jupyterlab-pygments in c:\\users\\saketh\\appdata\\local\\programs\\python\\python37\\lib\\site-packages (from nbconvert>=5->notebook>=4.4.1->widgetsnbextension~=3.6.0->ipywidgets>=7.0.0->pydeck>=0.1.dev5->streamlit) (0.2.2)\n",
      "Requirement already satisfied: beautifulsoup4 in c:\\users\\saketh\\appdata\\local\\programs\\python\\python37\\lib\\site-packages (from nbconvert>=5->notebook>=4.4.1->widgetsnbextension~=3.6.0->ipywidgets>=7.0.0->pydeck>=0.1.dev5->streamlit) (4.11.1)\n",
      "Requirement already satisfied: fastjsonschema in c:\\users\\saketh\\appdata\\local\\programs\\python\\python37\\lib\\site-packages (from nbformat->notebook>=4.4.1->widgetsnbextension~=3.6.0->ipywidgets>=7.0.0->pydeck>=0.1.dev5->streamlit) (2.16.1)\n",
      "Requirement already satisfied: pywinpty>=1.1.0 in c:\\users\\saketh\\appdata\\local\\programs\\python\\python37\\lib\\site-packages (from terminado>=0.8.3->notebook>=4.4.1->widgetsnbextension~=3.6.0->ipywidgets>=7.0.0->pydeck>=0.1.dev5->streamlit) (2.0.7)\n",
      "Requirement already satisfied: argon2-cffi-bindings in c:\\users\\saketh\\appdata\\local\\programs\\python\\python37\\lib\\site-packages (from argon2-cffi->notebook>=4.4.1->widgetsnbextension~=3.6.0->ipywidgets>=7.0.0->pydeck>=0.1.dev5->streamlit) (21.2.0)\n",
      "Requirement already satisfied: cffi>=1.0.1 in c:\\users\\saketh\\appdata\\local\\programs\\python\\python37\\lib\\site-packages (from argon2-cffi-bindings->argon2-cffi->notebook>=4.4.1->widgetsnbextension~=3.6.0->ipywidgets>=7.0.0->pydeck>=0.1.dev5->streamlit) (1.15.1)\n",
      "Requirement already satisfied: soupsieve>1.2 in c:\\users\\saketh\\appdata\\local\\programs\\python\\python37\\lib\\site-packages (from beautifulsoup4->nbconvert>=5->notebook>=4.4.1->widgetsnbextension~=3.6.0->ipywidgets>=7.0.0->pydeck>=0.1.dev5->streamlit) (2.3.2.post1)\n",
      "Requirement already satisfied: webencodings in c:\\users\\saketh\\appdata\\local\\programs\\python\\python37\\lib\\site-packages (from bleach->nbconvert>=5->notebook>=4.4.1->widgetsnbextension~=3.6.0->ipywidgets>=7.0.0->pydeck>=0.1.dev5->streamlit) (0.5.1)\n",
      "Requirement already satisfied: pycparser in c:\\users\\saketh\\appdata\\local\\programs\\python\\python37\\lib\\site-packages (from cffi>=1.0.1->argon2-cffi-bindings->argon2-cffi->notebook>=4.4.1->widgetsnbextension~=3.6.0->ipywidgets>=7.0.0->pydeck>=0.1.dev5->streamlit) (2.21)\n",
      "Note: you may need to restart the kernel to use updated packages.\n"
     ]
    }
   ],
   "source": [
    "pip install streamlit"
   ]
  },
  {
   "cell_type": "code",
   "execution_count": 4,
   "metadata": {},
   "outputs": [],
   "source": [
    "#import streamlit as st\n",
    "import numpy as np\n",
    "import pandas as pd\n",
    "import math\n",
    "import pandas_datareader as web\n",
    "from sklearn.preprocessing import MinMaxScaler\n",
    "from keras.models import Sequential\n",
    "from keras.layers import Dense,LSTM\n",
    "import matplotlib.pyplot as plt\n",
    "plt.style.use('fivethirtyeight')"
   ]
  },
  {
   "cell_type": "code",
   "execution_count": 24,
   "metadata": {
    "colab": {
     "base_uri": "https://localhost:8080/",
     "height": 206
    },
    "id": "4hAh8hps7MOg",
    "outputId": "3061b881-0eeb-4762-c0bd-c9a2c72c406f"
   },
   "outputs": [
    {
     "data": {
      "text/html": [
       "<div>\n",
       "<style scoped>\n",
       "    .dataframe tbody tr th:only-of-type {\n",
       "        vertical-align: middle;\n",
       "    }\n",
       "\n",
       "    .dataframe tbody tr th {\n",
       "        vertical-align: top;\n",
       "    }\n",
       "\n",
       "    .dataframe thead th {\n",
       "        text-align: right;\n",
       "    }\n",
       "</style>\n",
       "<table border=\"1\" class=\"dataframe\">\n",
       "  <thead>\n",
       "    <tr style=\"text-align: right;\">\n",
       "      <th></th>\n",
       "      <th>High</th>\n",
       "      <th>Low</th>\n",
       "      <th>Open</th>\n",
       "      <th>Close</th>\n",
       "      <th>Volume</th>\n",
       "      <th>Adj Close</th>\n",
       "    </tr>\n",
       "    <tr>\n",
       "      <th>Date</th>\n",
       "      <th></th>\n",
       "      <th></th>\n",
       "      <th></th>\n",
       "      <th></th>\n",
       "      <th></th>\n",
       "      <th></th>\n",
       "    </tr>\n",
       "  </thead>\n",
       "  <tbody>\n",
       "    <tr>\n",
       "      <th>2018-01-01</th>\n",
       "      <td>14112.200195</td>\n",
       "      <td>13154.700195</td>\n",
       "      <td>14112.200195</td>\n",
       "      <td>13657.200195</td>\n",
       "      <td>10291200000</td>\n",
       "      <td>13657.200195</td>\n",
       "    </tr>\n",
       "    <tr>\n",
       "      <th>2018-01-02</th>\n",
       "      <td>15444.599609</td>\n",
       "      <td>13163.599609</td>\n",
       "      <td>13625.000000</td>\n",
       "      <td>14982.099609</td>\n",
       "      <td>16846600192</td>\n",
       "      <td>14982.099609</td>\n",
       "    </tr>\n",
       "    <tr>\n",
       "      <th>2018-01-03</th>\n",
       "      <td>15572.799805</td>\n",
       "      <td>14844.500000</td>\n",
       "      <td>14978.200195</td>\n",
       "      <td>15201.000000</td>\n",
       "      <td>16871900160</td>\n",
       "      <td>15201.000000</td>\n",
       "    </tr>\n",
       "    <tr>\n",
       "      <th>2018-01-04</th>\n",
       "      <td>15739.700195</td>\n",
       "      <td>14522.200195</td>\n",
       "      <td>15270.700195</td>\n",
       "      <td>15599.200195</td>\n",
       "      <td>21783199744</td>\n",
       "      <td>15599.200195</td>\n",
       "    </tr>\n",
       "    <tr>\n",
       "      <th>2018-01-05</th>\n",
       "      <td>17705.199219</td>\n",
       "      <td>15202.799805</td>\n",
       "      <td>15477.200195</td>\n",
       "      <td>17429.500000</td>\n",
       "      <td>23840899072</td>\n",
       "      <td>17429.500000</td>\n",
       "    </tr>\n",
       "  </tbody>\n",
       "</table>\n",
       "</div>"
      ],
      "text/plain": [
       "                    High           Low          Open         Close  \\\n",
       "Date                                                                 \n",
       "2018-01-01  14112.200195  13154.700195  14112.200195  13657.200195   \n",
       "2018-01-02  15444.599609  13163.599609  13625.000000  14982.099609   \n",
       "2018-01-03  15572.799805  14844.500000  14978.200195  15201.000000   \n",
       "2018-01-04  15739.700195  14522.200195  15270.700195  15599.200195   \n",
       "2018-01-05  17705.199219  15202.799805  15477.200195  17429.500000   \n",
       "\n",
       "                 Volume     Adj Close  \n",
       "Date                                   \n",
       "2018-01-01  10291200000  13657.200195  \n",
       "2018-01-02  16846600192  14982.099609  \n",
       "2018-01-03  16871900160  15201.000000  \n",
       "2018-01-04  21783199744  15599.200195  \n",
       "2018-01-05  23840899072  17429.500000  "
      ]
     },
     "execution_count": 24,
     "metadata": {},
     "output_type": "execute_result"
    }
   ],
   "source": [
    "df = web.DataReader('BTC-USD', data_source='yahoo', start = '2018-01-01', end = '2022-08-09')\n",
    "df.head()"
   ]
  },
  {
   "cell_type": "code",
   "execution_count": 25,
   "metadata": {
    "colab": {
     "base_uri": "https://localhost:8080/",
     "height": 206
    },
    "id": "3NeLOhTnG8Od",
    "outputId": "d0dbd5fa-9e4f-4e27-e61a-1e085aaae7c5"
   },
   "outputs": [
    {
     "data": {
      "text/html": [
       "<div>\n",
       "<style scoped>\n",
       "    .dataframe tbody tr th:only-of-type {\n",
       "        vertical-align: middle;\n",
       "    }\n",
       "\n",
       "    .dataframe tbody tr th {\n",
       "        vertical-align: top;\n",
       "    }\n",
       "\n",
       "    .dataframe thead th {\n",
       "        text-align: right;\n",
       "    }\n",
       "</style>\n",
       "<table border=\"1\" class=\"dataframe\">\n",
       "  <thead>\n",
       "    <tr style=\"text-align: right;\">\n",
       "      <th></th>\n",
       "      <th>High</th>\n",
       "      <th>Low</th>\n",
       "      <th>Open</th>\n",
       "      <th>Close</th>\n",
       "      <th>Volume</th>\n",
       "      <th>Adj Close</th>\n",
       "    </tr>\n",
       "    <tr>\n",
       "      <th>Date</th>\n",
       "      <th></th>\n",
       "      <th></th>\n",
       "      <th></th>\n",
       "      <th></th>\n",
       "      <th></th>\n",
       "      <th></th>\n",
       "    </tr>\n",
       "  </thead>\n",
       "  <tbody>\n",
       "    <tr>\n",
       "      <th>2022-08-06</th>\n",
       "      <td>23326.562500</td>\n",
       "      <td>22961.279297</td>\n",
       "      <td>23291.423828</td>\n",
       "      <td>22961.279297</td>\n",
       "      <td>15978259885</td>\n",
       "      <td>22961.279297</td>\n",
       "    </tr>\n",
       "    <tr>\n",
       "      <th>2022-08-07</th>\n",
       "      <td>23359.009766</td>\n",
       "      <td>22894.556641</td>\n",
       "      <td>22963.505859</td>\n",
       "      <td>23175.890625</td>\n",
       "      <td>15886817043</td>\n",
       "      <td>23175.890625</td>\n",
       "    </tr>\n",
       "    <tr>\n",
       "      <th>2022-08-08</th>\n",
       "      <td>24203.689453</td>\n",
       "      <td>23176.546875</td>\n",
       "      <td>23179.527344</td>\n",
       "      <td>23809.486328</td>\n",
       "      <td>28575544847</td>\n",
       "      <td>23809.486328</td>\n",
       "    </tr>\n",
       "    <tr>\n",
       "      <th>2022-08-09</th>\n",
       "      <td>23898.615234</td>\n",
       "      <td>22982.000000</td>\n",
       "      <td>23811.484375</td>\n",
       "      <td>23164.318359</td>\n",
       "      <td>23555719219</td>\n",
       "      <td>23164.318359</td>\n",
       "    </tr>\n",
       "    <tr>\n",
       "      <th>2022-08-10</th>\n",
       "      <td>24126.781250</td>\n",
       "      <td>22773.726562</td>\n",
       "      <td>23126.421875</td>\n",
       "      <td>23983.406250</td>\n",
       "      <td>28367517696</td>\n",
       "      <td>23983.406250</td>\n",
       "    </tr>\n",
       "  </tbody>\n",
       "</table>\n",
       "</div>"
      ],
      "text/plain": [
       "                    High           Low          Open         Close  \\\n",
       "Date                                                                 \n",
       "2022-08-06  23326.562500  22961.279297  23291.423828  22961.279297   \n",
       "2022-08-07  23359.009766  22894.556641  22963.505859  23175.890625   \n",
       "2022-08-08  24203.689453  23176.546875  23179.527344  23809.486328   \n",
       "2022-08-09  23898.615234  22982.000000  23811.484375  23164.318359   \n",
       "2022-08-10  24126.781250  22773.726562  23126.421875  23983.406250   \n",
       "\n",
       "                 Volume     Adj Close  \n",
       "Date                                   \n",
       "2022-08-06  15978259885  22961.279297  \n",
       "2022-08-07  15886817043  23175.890625  \n",
       "2022-08-08  28575544847  23809.486328  \n",
       "2022-08-09  23555719219  23164.318359  \n",
       "2022-08-10  28367517696  23983.406250  "
      ]
     },
     "execution_count": 25,
     "metadata": {},
     "output_type": "execute_result"
    }
   ],
   "source": [
    "df.tail()"
   ]
  },
  {
   "cell_type": "code",
   "execution_count": 7,
   "metadata": {
    "colab": {
     "base_uri": "https://localhost:8080/"
    },
    "id": "L2AjIgUh8Slm",
    "outputId": "45942352-721c-4a2c-8649-c76ee9829a9b"
   },
   "outputs": [
    {
     "data": {
      "text/plain": [
       "1347"
      ]
     },
     "execution_count": 7,
     "metadata": {},
     "output_type": "execute_result"
    }
   ],
   "source": [
    "from keras.engine import training\n",
    "data = df.filter(['Close'])\n",
    "dataset= data.values\n",
    "training_data_len = math.ceil(len(dataset)*.8)\n",
    "training_data_len"
   ]
  },
  {
   "cell_type": "code",
   "execution_count": 8,
   "metadata": {
    "colab": {
     "base_uri": "https://localhost:8080/"
    },
    "id": "W_xbXK4E_d7u",
    "outputId": "3089fadf-a187-40a3-b9ab-01766f152f45"
   },
   "outputs": [
    {
     "data": {
      "text/plain": [
       "array([[0.16198395],\n",
       "       [0.18257929],\n",
       "       [0.18598206],\n",
       "       ...,\n",
       "       [0.31979952],\n",
       "       [0.3097705 ],\n",
       "       [0.32211491]])"
      ]
     },
     "execution_count": 8,
     "metadata": {},
     "output_type": "execute_result"
    }
   ],
   "source": [
    "scaler = MinMaxScaler(feature_range=(0,1))\n",
    "scaled_data = scaler.fit_transform(dataset)\n",
    "\n",
    "scaled_data"
   ]
  },
  {
   "cell_type": "code",
   "execution_count": 9,
   "metadata": {
    "colab": {
     "base_uri": "https://localhost:8080/"
    },
    "id": "XeucuLXy_uWw",
    "outputId": "86f57c5b-d291-45eb-bed7-63f78a9c814b"
   },
   "outputs": [
    {
     "name": "stdout",
     "output_type": "stream",
     "text": [
      "[array([0.16198395, 0.18257929, 0.18598206, 0.19217201, 0.22062372,\n",
      "       0.22213934, 0.20582659, 0.18550172, 0.17656812, 0.1824425 ,\n",
      "       0.15807598, 0.16701114, 0.17291197, 0.1637685 , 0.16451154,\n",
      "       0.12830297, 0.12360997, 0.12806047, 0.13012016, 0.15020097,\n",
      "       0.13000667, 0.11961186, 0.11863253, 0.12626504, 0.12471056,\n",
      "       0.12334262, 0.12752884, 0.13290112, 0.12528572, 0.10678581,\n",
      "       0.10857035, 0.09223958, 0.0869576 , 0.09230751, 0.0783498 ,\n",
      "       0.05780358, 0.0702197 , 0.0681569 , 0.07817228, 0.08549997,\n",
      "       0.08371107, 0.0760641 , 0.08844711, 0.08334435, 0.0972775 ,\n",
      "       0.10772006, 0.10876934, 0.12243013, 0.11371103, 0.12418047,\n",
      "       0.12695368, 0.11586555, 0.10521112, 0.10981394, 0.1022276 ,\n",
      "       0.09992169, 0.11083369, 0.11641272, 0.11131869, 0.11991653])]\n",
      "[0.12202130528365762]\n",
      "\n",
      "[array([0.16198395, 0.18257929, 0.18598206, 0.19217201, 0.22062372,\n",
      "       0.22213934, 0.20582659, 0.18550172, 0.17656812, 0.1824425 ,\n",
      "       0.15807598, 0.16701114, 0.17291197, 0.1637685 , 0.16451154,\n",
      "       0.12830297, 0.12360997, 0.12806047, 0.13012016, 0.15020097,\n",
      "       0.13000667, 0.11961186, 0.11863253, 0.12626504, 0.12471056,\n",
      "       0.12334262, 0.12752884, 0.13290112, 0.12528572, 0.10678581,\n",
      "       0.10857035, 0.09223958, 0.0869576 , 0.09230751, 0.0783498 ,\n",
      "       0.05780358, 0.0702197 , 0.0681569 , 0.07817228, 0.08549997,\n",
      "       0.08371107, 0.0760641 , 0.08844711, 0.08334435, 0.0972775 ,\n",
      "       0.10772006, 0.10876934, 0.12243013, 0.11371103, 0.12418047,\n",
      "       0.12695368, 0.11586555, 0.10521112, 0.10981394, 0.1022276 ,\n",
      "       0.09992169, 0.11083369, 0.11641272, 0.11131869, 0.11991653]), array([0.18257929, 0.18598206, 0.19217201, 0.22062372, 0.22213934,\n",
      "       0.20582659, 0.18550172, 0.17656812, 0.1824425 , 0.15807598,\n",
      "       0.16701114, 0.17291197, 0.1637685 , 0.16451154, 0.12830297,\n",
      "       0.12360997, 0.12806047, 0.13012016, 0.15020097, 0.13000667,\n",
      "       0.11961186, 0.11863253, 0.12626504, 0.12471056, 0.12334262,\n",
      "       0.12752884, 0.13290112, 0.12528572, 0.10678581, 0.10857035,\n",
      "       0.09223958, 0.0869576 , 0.09230751, 0.0783498 , 0.05780358,\n",
      "       0.0702197 , 0.0681569 , 0.07817228, 0.08549997, 0.08371107,\n",
      "       0.0760641 , 0.08844711, 0.08334435, 0.0972775 , 0.10772006,\n",
      "       0.10876934, 0.12243013, 0.11371103, 0.12418047, 0.12695368,\n",
      "       0.11586555, 0.10521112, 0.10981394, 0.1022276 , 0.09992169,\n",
      "       0.11083369, 0.11641272, 0.11131869, 0.11991653, 0.12202131])]\n",
      "[0.12202130528365762, 0.12829053252400627]\n",
      "\n"
     ]
    }
   ],
   "source": [
    "train_data = scaled_data[0:training_data_len, :]\n",
    "x_train = []\n",
    "y_train=[]\n",
    "\n",
    "for i in range(60, len(train_data)):\n",
    "  x_train.append(train_data[i-60:i,0])\n",
    "  y_train.append(train_data[i,0])\n",
    "  if i<=61:\n",
    "    print(x_train)\n",
    "    print(y_train)\n",
    "    print()"
   ]
  },
  {
   "cell_type": "code",
   "execution_count": 10,
   "metadata": {
    "id": "3-8S2IRIAgWW"
   },
   "outputs": [],
   "source": [
    "x_train, y_train = np.array(x_train), np.array(y_train)"
   ]
  },
  {
   "cell_type": "code",
   "execution_count": 12,
   "metadata": {
    "colab": {
     "base_uri": "https://localhost:8080/"
    },
    "id": "_KmSFduUA5bg",
    "outputId": "20967416-77ce-462a-d46b-a592ac777e7c"
   },
   "outputs": [
    {
     "data": {
      "text/plain": [
       "(1287, 60, 1)"
      ]
     },
     "execution_count": 12,
     "metadata": {},
     "output_type": "execute_result"
    }
   ],
   "source": [
    "x_train =np.reshape(x_train, (x_train.shape[0], x_train.shape[1],1))\n",
    "x_train.shape"
   ]
  },
  {
   "cell_type": "code",
   "execution_count": 14,
   "metadata": {
    "id": "fsFQ_JWmBHsV"
   },
   "outputs": [],
   "source": [
    "model = Sequential()\n",
    "model.add(LSTM(50, return_sequences=True, input_shape=(x_train.shape[1], 1)))\n",
    "model.add(LSTM(50, return_sequences=False))\n",
    "model.add(Dense(25))\n",
    "model.add(Dense(1))\n"
   ]
  },
  {
   "cell_type": "code",
   "execution_count": 15,
   "metadata": {
    "id": "cIxRtF5ABxrn"
   },
   "outputs": [],
   "source": [
    "model.compile(optimizer='adam', loss='mean_squared_error')"
   ]
  },
  {
   "cell_type": "code",
   "execution_count": 16,
   "metadata": {
    "colab": {
     "base_uri": "https://localhost:8080/"
    },
    "id": "MocRKOvjB_cy",
    "outputId": "ec9c2e15-6b04-45f8-a4f3-e62a9b757a63"
   },
   "outputs": [
    {
     "name": "stdout",
     "output_type": "stream",
     "text": [
      "1287/1287 [==============================] - 25s 17ms/step - loss: 0.0023\n"
     ]
    },
    {
     "data": {
      "text/plain": [
       "<keras.callbacks.History at 0x2480f06d860>"
      ]
     },
     "execution_count": 16,
     "metadata": {},
     "output_type": "execute_result"
    }
   ],
   "source": [
    "model.fit(x_train, y_train, batch_size=1, epochs=1)"
   ]
  },
  {
   "cell_type": "code",
   "execution_count": 17,
   "metadata": {
    "id": "ixjZefpLCHoe"
   },
   "outputs": [],
   "source": [
    "test_data = scaled_data[training_data_len-60:,:]\n",
    "x_test=[]\n",
    "y_test=dataset[training_data_len:,:]\n",
    "for i in range(60, len(test_data)):\n",
    "  x_test.append(test_data[i-60:i, 0])"
   ]
  },
  {
   "cell_type": "code",
   "execution_count": 18,
   "metadata": {
    "id": "TlfYYbCSDDzl"
   },
   "outputs": [],
   "source": [
    "x_test = np.array(x_test)"
   ]
  },
  {
   "cell_type": "code",
   "execution_count": 19,
   "metadata": {
    "id": "RpRCFCXyDNNG"
   },
   "outputs": [],
   "source": [
    "x_test= np.reshape(x_test,(x_test.shape[0],x_test.shape[1],1))"
   ]
  },
  {
   "cell_type": "code",
   "execution_count": 20,
   "metadata": {
    "id": "-zyUqJElDaWZ"
   },
   "outputs": [
    {
     "name": "stdout",
     "output_type": "stream",
     "text": [
      "11/11 [==============================] - 1s 12ms/step\n"
     ]
    }
   ],
   "source": [
    "predictions = model.predict(x_test)\n",
    "predictions = scaler.inverse_transform(predictions)\n"
   ]
  },
  {
   "cell_type": "code",
   "execution_count": 26,
   "metadata": {
    "colab": {
     "base_uri": "https://localhost:8080/"
    },
    "id": "SOUhfK93DqYH",
    "outputId": "dd9ab480-27e3-42e8-f3cd-e28d29966770"
   },
   "outputs": [
    {
     "data": {
      "text/plain": [
       "2589.3079543340773"
      ]
     },
     "execution_count": 26,
     "metadata": {},
     "output_type": "execute_result"
    }
   ],
   "source": [
    "rmse = np.sqrt(np.mean(predictions - y_test)**2)\n",
    "rmse"
   ]
  },
  {
   "cell_type": "code",
   "execution_count": 27,
   "metadata": {
    "colab": {
     "base_uri": "https://localhost:8080/"
    },
    "id": "18BE5QAOD7Gn",
    "outputId": "d134058a-4a40-4f14-ec8e-4a3f35217621"
   },
   "outputs": [
    {
     "name": "stderr",
     "output_type": "stream",
     "text": [
      "C:\\Users\\Saketh\\AppData\\Local\\Programs\\Python\\Python37\\lib\\site-packages\\ipykernel_launcher.py:3: SettingWithCopyWarning: \n",
      "A value is trying to be set on a copy of a slice from a DataFrame.\n",
      "Try using .loc[row_indexer,col_indexer] = value instead\n",
      "\n",
      "See the caveats in the documentation: https://pandas.pydata.org/pandas-docs/stable/user_guide/indexing.html#returning-a-view-versus-a-copy\n",
      "  This is separate from the ipykernel package so we can avoid doing imports until\n"
     ]
    },
    {
     "data": {
      "image/png": "[encoded data removed]",
      "text/plain": [
       "<Figure size 1152x576 with 1 Axes>"
      ]
     },
     "metadata": {},
     "output_type": "display_data"
    }
   ],
   "source": [
    "train= data[:training_data_len]\n",
    "valid= data[training_data_len:]\n",
    "valid['Predictions']= predictions\n",
    "\n",
    "plt.figure(figsize=(16,8))\n",
    "plt.title('Model')\n",
    "plt.xlabel('Date',fontsize=18)\n",
    "plt.ylabel('Close Price in USD ($)', fontsize =18)\n",
    "plt.plot(train['Close'])\n",
    "plt.plot(valid[['Close','Predictions']])\n",
    "plt.legend(['Train', 'Val', 'Predictions'], loc='lower right')\n",
    "plt.show()"
   ]
  },
  {
   "cell_type": "code",
   "execution_count": 28,
   "metadata": {
    "colab": {
     "base_uri": "https://localhost:8080/",
     "height": 424
    },
    "id": "eJl97zHZEHxv",
    "outputId": "2eb6c618-22c0-4527-db18-b95de767112a"
   },
   "outputs": [
    {
     "data": {
      "text/html": [
       "<div>\n",
       "<style scoped>\n",
       "    .dataframe tbody tr th:only-of-type {\n",
       "        vertical-align: middle;\n",
       "    }\n",
       "\n",
       "    .dataframe tbody tr th {\n",
       "        vertical-align: top;\n",
       "    }\n",
       "\n",
       "    .dataframe thead th {\n",
       "        text-align: right;\n",
       "    }\n",
       "</style>\n",
       "<table border=\"1\" class=\"dataframe\">\n",
       "  <thead>\n",
       "    <tr style=\"text-align: right;\">\n",
       "      <th></th>\n",
       "      <th>Close</th>\n",
       "      <th>Predictions</th>\n",
       "    </tr>\n",
       "    <tr>\n",
       "      <th>Date</th>\n",
       "      <th></th>\n",
       "      <th></th>\n",
       "    </tr>\n",
       "  </thead>\n",
       "  <tbody>\n",
       "    <tr>\n",
       "      <th>2021-09-09</th>\n",
       "      <td>46391.421875</td>\n",
       "      <td>52393.242188</td>\n",
       "    </tr>\n",
       "    <tr>\n",
       "      <th>2021-09-10</th>\n",
       "      <td>44883.910156</td>\n",
       "      <td>51363.230469</td>\n",
       "    </tr>\n",
       "    <tr>\n",
       "      <th>2021-09-11</th>\n",
       "      <td>45201.457031</td>\n",
       "      <td>50155.835938</td>\n",
       "    </tr>\n",
       "    <tr>\n",
       "      <th>2021-09-12</th>\n",
       "      <td>46063.269531</td>\n",
       "      <td>49135.796875</td>\n",
       "    </tr>\n",
       "    <tr>\n",
       "      <th>2021-09-13</th>\n",
       "      <td>44963.074219</td>\n",
       "      <td>48543.589844</td>\n",
       "    </tr>\n",
       "    <tr>\n",
       "      <th>...</th>\n",
       "      <td>...</td>\n",
       "      <td>...</td>\n",
       "    </tr>\n",
       "    <tr>\n",
       "      <th>2022-08-06</th>\n",
       "      <td>22961.279297</td>\n",
       "      <td>24108.685547</td>\n",
       "    </tr>\n",
       "    <tr>\n",
       "      <th>2022-08-07</th>\n",
       "      <td>23175.890625</td>\n",
       "      <td>24058.904297</td>\n",
       "    </tr>\n",
       "    <tr>\n",
       "      <th>2022-08-08</th>\n",
       "      <td>23809.486328</td>\n",
       "      <td>24054.666016</td>\n",
       "    </tr>\n",
       "    <tr>\n",
       "      <th>2022-08-09</th>\n",
       "      <td>23164.318359</td>\n",
       "      <td>24176.724609</td>\n",
       "    </tr>\n",
       "    <tr>\n",
       "      <th>2022-08-10</th>\n",
       "      <td>23958.435547</td>\n",
       "      <td>24247.917969</td>\n",
       "    </tr>\n",
       "  </tbody>\n",
       "</table>\n",
       "<p>336 rows × 2 columns</p>\n",
       "</div>"
      ],
      "text/plain": [
       "                   Close   Predictions\n",
       "Date                                  \n",
       "2021-09-09  46391.421875  52393.242188\n",
       "2021-09-10  44883.910156  51363.230469\n",
       "2021-09-11  45201.457031  50155.835938\n",
       "2021-09-12  46063.269531  49135.796875\n",
       "2021-09-13  44963.074219  48543.589844\n",
       "...                  ...           ...\n",
       "2022-08-06  22961.279297  24108.685547\n",
       "2022-08-07  23175.890625  24058.904297\n",
       "2022-08-08  23809.486328  24054.666016\n",
       "2022-08-09  23164.318359  24176.724609\n",
       "2022-08-10  23958.435547  24247.917969\n",
       "\n",
       "[336 rows x 2 columns]"
      ]
     },
     "execution_count": 28,
     "metadata": {},
     "output_type": "execute_result"
    }
   ],
   "source": [
    "valid"
   ]
  },
  {
   "cell_type": "code",
   "execution_count": 29,
   "metadata": {
    "colab": {
     "base_uri": "https://localhost:8080/"
    },
    "id": "gF7jO8mJEuoA",
    "outputId": "6f2ec5cd-1995-4125-a582-5d2c699327ee"
   },
   "outputs": [
    {
     "name": "stdout",
     "output_type": "stream",
     "text": [
      "1/1 [==============================] - 0s 25ms/step\n",
      "[[24413.295]]\n"
     ]
    }
   ],
   "source": [
    "btc_quote = web.DataReader('BTC-USD',data_source='yahoo', start = '2018-01-01', end = '2022-08-09')\n",
    "new_df= btc_quote.filter(['Close'])\n",
    "last_60_days = new_df[-60:].values\n",
    "last_60_days_scaled=scaler.transform(last_60_days)\n",
    "X_test = []\n",
    "X_test.append(last_60_days_scaled)\n",
    "X_test = np.array(X_test)\n",
    "X_test= np.reshape(X_test, (X_test.shape[0], X_test.shape[1], 1))\n",
    "pred_price = model.predict(X_test)\n",
    "pred_price=scaler.inverse_transform(pred_price)\n",
    "print(pred_price)"
   ]
  },
  {
   "cell_type": "code",
   "execution_count": 34,
   "metadata": {},
   "outputs": [
    {
     "ename": "AttributeError",
     "evalue": "'numpy.ndarray' object has no attribute 'dim'",
     "output_type": "error",
     "traceback": [
      "\u001b[1;31m---------------------------------------------------------------------------\u001b[0m",
      "\u001b[1;31mAttributeError\u001b[0m                            Traceback (most recent call last)",
      "\u001b[1;32m~\\AppData\\Local\\Temp\\ipykernel_7068\\3665918531.py\u001b[0m in \u001b[0;36m<module>\u001b[1;34m\u001b[0m\n\u001b[1;32m----> 1\u001b[1;33m \u001b[0mprint\u001b[0m\u001b[1;33m(\u001b[0m\u001b[0mtype\u001b[0m\u001b[1;33m(\u001b[0m\u001b[0mX_test\u001b[0m\u001b[1;33m.\u001b[0m\u001b[0mdim\u001b[0m\u001b[1;33m)\u001b[0m\u001b[1;33m)\u001b[0m\u001b[1;33m\u001b[0m\u001b[0m\n\u001b[0m",
      "\u001b[1;31mAttributeError\u001b[0m: 'numpy.ndarray' object has no attribute 'dim'"
     ]
    }
   ],
   "source": [
    "#print(type(X_test.dim))"
   ]
  },
  {
   "cell_type": "code",
   "execution_count": 30,
   "metadata": {},
   "outputs": [
    {
     "data": {
      "text/plain": [
       "array([[[0.36570593],\n",
       "        [0.29924774],\n",
       "        [0.29488593],\n",
       "        [0.30057606],\n",
       "        [0.26651439],\n",
       "        [0.26791082],\n",
       "        [0.24531112],\n",
       "        [0.26918221],\n",
       "        [0.26990141],\n",
       "        [0.27162782],\n",
       "        [0.26038008],\n",
       "        [0.27746148],\n",
       "        [0.27972759],\n",
       "        [0.28393529],\n",
       "        [0.27655083],\n",
       "        [0.27201459],\n",
       "        [0.26494412],\n",
       "        [0.26219873],\n",
       "        [0.25723531],\n",
       "        [0.24922414],\n",
       "        [0.2488027 ],\n",
       "        [0.24965487],\n",
       "        [0.26417663],\n",
       "        [0.26353701],\n",
       "        [0.2691041 ],\n",
       "        [0.28603773],\n",
       "        [0.28749163],\n",
       "        [0.28533229],\n",
       "        [0.27395724],\n",
       "        [0.26012401],\n",
       "        [0.25007206],\n",
       "        [0.26387836],\n",
       "        [0.26944101],\n",
       "        [0.27358228],\n",
       "        [0.27908497],\n",
       "        [0.27269647],\n",
       "        [0.29922133],\n",
       "        [0.31326988],\n",
       "        [0.31081844],\n",
       "        [0.30977532],\n",
       "        [0.30278559],\n",
       "        [0.29890715],\n",
       "        [0.30114072],\n",
       "        [0.28174912],\n",
       "        [0.27985347],\n",
       "        [0.30613659],\n",
       "        [0.32033427],\n",
       "        [0.31972408],\n",
       "        [0.31741682],\n",
       "        [0.31245319],\n",
       "        [0.31210037],\n",
       "        [0.30687603],\n",
       "        [0.30483019],\n",
       "        [0.30147949],\n",
       "        [0.31171354],\n",
       "        [0.30661429],\n",
       "        [0.30995039],\n",
       "        [0.31979952],\n",
       "        [0.3097705 ],\n",
       "        [0.32250308]]])"
      ]
     },
     "execution_count": 30,
     "metadata": {},
     "output_type": "execute_result"
    }
   ],
   "source": [
    "X_test"
   ]
  },
  {
   "cell_type": "code",
   "execution_count": 57,
   "metadata": {},
   "outputs": [
    {
     "name": "stdout",
     "output_type": "stream",
     "text": [
      "Date\n",
      "2022-08-01    23314.199219\n",
      "2022-08-02    22978.117188\n",
      "2022-08-03    22846.507812\n",
      "2022-08-04    22630.957031\n",
      "2022-08-05    23289.314453\n",
      "Name: Close, dtype: float64\n"
     ]
    }
   ],
   "source": [
    "btc_quote2= web.DataReader('BTC-USD', data_source='yahoo', start = '2022-08-01', end = '2022-08-04')\n",
    "print(btc_quote2['Close'])"
   ]
  },
  {
   "cell_type": "code",
   "execution_count": null,
   "metadata": {},
   "outputs": [],
   "source": []
  },
  {
   "cell_type": "code",
   "execution_count": 53,
   "metadata": {
    "scrolled": true
   },
   "outputs": [
    {
     "name": "stderr",
     "output_type": "stream",
     "text": [
      "WARNING:absl:Found untraced functions such as lstm_cell_layer_call_fn, lstm_cell_layer_call_and_return_conditional_losses, lstm_cell_1_layer_call_fn, lstm_cell_1_layer_call_and_return_conditional_losses while saving (showing 4 of 4). These functions will not be directly callable after loading.\n"
     ]
    },
    {
     "name": "stdout",
     "output_type": "stream",
     "text": [
      "INFO:tensorflow:Assets written to: model_new\\assets\n"
     ]
    },
    {
     "name": "stderr",
     "output_type": "stream",
     "text": [
      "INFO:tensorflow:Assets written to: model_new\\assets\n"
     ]
    },
    {
     "name": "stdout",
     "output_type": "stream",
     "text": [
      "Saved new model to disk\n"
     ]
    }
   ],
   "source": [
    "model.save(\"model_new\")\n",
    "print(\"Saved new model to disk\")"
   ]
  },
  {
   "cell_type": "code",
   "execution_count": 54,
   "metadata": {
    "scrolled": true
   },
   "outputs": [
    {
     "name": "stdout",
     "output_type": "stream",
     "text": [
      "Model: \"sequential\"\n",
      "_________________________________________________________________\n",
      " Layer (type)                Output Shape              Param #   \n",
      "=================================================================\n",
      " lstm (LSTM)                 (None, 60, 50)            10400     \n",
      "                                                                 \n",
      " lstm_1 (LSTM)               (None, 50)                20200     \n",
      "                                                                 \n",
      " dense (Dense)               (None, 25)                1275      \n",
      "                                                                 \n",
      " dense_1 (Dense)             (None, 1)                 26        \n",
      "                                                                 \n",
      "=================================================================\n",
      "Total params: 31,901\n",
      "Trainable params: 31,901\n",
      "Non-trainable params: 0\n",
      "_________________________________________________________________\n"
     ]
    }
   ],
   "source": [
    "loaded_model = tf.keras.models.load_model(\"model_new\")\n",
    "loaded_model.build()\n",
    "loaded_model.summary()"
   ]
  },
  {
   "cell_type": "code",
   "execution_count": null,
   "metadata": {},
   "outputs": [],
   "source": []
  },
  {
   "cell_type": "code",
   "execution_count": null,
   "metadata": {},
   "outputs": [],
   "source": []
  }
 ],
 "metadata": {
  "colab": {
   "name": "lstm_model.ipynb",
   "provenance": []
  },
  "kernelspec": {
   "display_name": "Python 3 (ipykernel)",
   "language": "python",
   "name": "python3"
  },
  "language_info": {
   "codemirror_mode": {
    "name": "ipython",
    "version": 3
   },
   "file_extension": ".py",
   "mimetype": "text/x-python",
   "name": "python",
   "nbconvert_exporter": "python",
   "pygments_lexer": "ipython3",
   "version": "3.7.0"
  }
 },
 "nbformat": 4,
 "nbformat_minor": 4
}
