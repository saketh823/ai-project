{
 "cells": [
  {
   "cell_type": "code",
   "execution_count": 33,
   "metadata": {},
   "outputs": [],
   "source": [
    "#pip install keras"
   ]
  },
  {
   "cell_type": "code",
   "execution_count": 31,
   "metadata": {},
   "outputs": [],
   "source": [
    "#pip install tensorflow"
   ]
  },
  {
   "cell_type": "markdown",
   "metadata": {},
   "source": [
    "Import the libraries"
   ]
  },
  {
   "cell_type": "code",
   "execution_count": 1,
   "metadata": {},
   "outputs": [],
   "source": [
    "\n",
    "import numpy as np\n",
    "import pandas as pd\n",
    "import math\n",
    "import pandas_datareader as web\n",
    "from sklearn.preprocessing import MinMaxScaler\n",
    "from keras.models import Sequential\n",
    "from keras.layers import Dense,LSTM\n",
    "import matplotlib.pyplot as plt\n",
    "plt.style.use('fivethirtyeight')"
   ]
  },
  {
   "cell_type": "markdown",
   "metadata": {},
   "source": [
    "Prepare the dataset from Yahoo fianance"
   ]
  },
  {
   "cell_type": "code",
   "execution_count": 4,
   "metadata": {
    "colab": {
     "base_uri": "https://localhost:8080/",
     "height": 206
    },
    "id": "4hAh8hps7MOg",
    "outputId": "3061b881-0eeb-4762-c0bd-c9a2c72c406f"
   },
   "outputs": [
    {
     "data": {
      "text/html": [
       "<div>\n",
       "<style scoped>\n",
       "    .dataframe tbody tr th:only-of-type {\n",
       "        vertical-align: middle;\n",
       "    }\n",
       "\n",
       "    .dataframe tbody tr th {\n",
       "        vertical-align: top;\n",
       "    }\n",
       "\n",
       "    .dataframe thead th {\n",
       "        text-align: right;\n",
       "    }\n",
       "</style>\n",
       "<table border=\"1\" class=\"dataframe\">\n",
       "  <thead>\n",
       "    <tr style=\"text-align: right;\">\n",
       "      <th></th>\n",
       "      <th>High</th>\n",
       "      <th>Low</th>\n",
       "      <th>Open</th>\n",
       "      <th>Close</th>\n",
       "      <th>Volume</th>\n",
       "      <th>Adj Close</th>\n",
       "    </tr>\n",
       "    <tr>\n",
       "      <th>Date</th>\n",
       "      <th></th>\n",
       "      <th></th>\n",
       "      <th></th>\n",
       "      <th></th>\n",
       "      <th></th>\n",
       "      <th></th>\n",
       "    </tr>\n",
       "  </thead>\n",
       "  <tbody>\n",
       "    <tr>\n",
       "      <th>2018-01-01</th>\n",
       "      <td>14112.200195</td>\n",
       "      <td>13154.700195</td>\n",
       "      <td>14112.200195</td>\n",
       "      <td>13657.200195</td>\n",
       "      <td>10291200000</td>\n",
       "      <td>13657.200195</td>\n",
       "    </tr>\n",
       "    <tr>\n",
       "      <th>2018-01-02</th>\n",
       "      <td>15444.599609</td>\n",
       "      <td>13163.599609</td>\n",
       "      <td>13625.000000</td>\n",
       "      <td>14982.099609</td>\n",
       "      <td>16846600192</td>\n",
       "      <td>14982.099609</td>\n",
       "    </tr>\n",
       "    <tr>\n",
       "      <th>2018-01-03</th>\n",
       "      <td>15572.799805</td>\n",
       "      <td>14844.500000</td>\n",
       "      <td>14978.200195</td>\n",
       "      <td>15201.000000</td>\n",
       "      <td>16871900160</td>\n",
       "      <td>15201.000000</td>\n",
       "    </tr>\n",
       "    <tr>\n",
       "      <th>2018-01-04</th>\n",
       "      <td>15739.700195</td>\n",
       "      <td>14522.200195</td>\n",
       "      <td>15270.700195</td>\n",
       "      <td>15599.200195</td>\n",
       "      <td>21783199744</td>\n",
       "      <td>15599.200195</td>\n",
       "    </tr>\n",
       "    <tr>\n",
       "      <th>2018-01-05</th>\n",
       "      <td>17705.199219</td>\n",
       "      <td>15202.799805</td>\n",
       "      <td>15477.200195</td>\n",
       "      <td>17429.500000</td>\n",
       "      <td>23840899072</td>\n",
       "      <td>17429.500000</td>\n",
       "    </tr>\n",
       "  </tbody>\n",
       "</table>\n",
       "</div>"
      ],
      "text/plain": [
       "                    High           Low          Open         Close  \\\n",
       "Date                                                                 \n",
       "2018-01-01  14112.200195  13154.700195  14112.200195  13657.200195   \n",
       "2018-01-02  15444.599609  13163.599609  13625.000000  14982.099609   \n",
       "2018-01-03  15572.799805  14844.500000  14978.200195  15201.000000   \n",
       "2018-01-04  15739.700195  14522.200195  15270.700195  15599.200195   \n",
       "2018-01-05  17705.199219  15202.799805  15477.200195  17429.500000   \n",
       "\n",
       "                 Volume     Adj Close  \n",
       "Date                                   \n",
       "2018-01-01  10291200000  13657.200195  \n",
       "2018-01-02  16846600192  14982.099609  \n",
       "2018-01-03  16871900160  15201.000000  \n",
       "2018-01-04  21783199744  15599.200195  \n",
       "2018-01-05  23840899072  17429.500000  "
      ]
     },
     "execution_count": 4,
     "metadata": {},
     "output_type": "execute_result"
    }
   ],
   "source": [
    "df = web.DataReader('BTC-USD', data_source='yahoo', start = '2018-01-01', end = '2022-08-11')\n",
    "df.head()"
   ]
  },
  {
   "cell_type": "code",
   "execution_count": 5,
   "metadata": {
    "colab": {
     "base_uri": "https://localhost:8080/",
     "height": 206
    },
    "id": "3NeLOhTnG8Od",
    "outputId": "d0dbd5fa-9e4f-4e27-e61a-1e085aaae7c5"
   },
   "outputs": [
    {
     "data": {
      "text/html": [
       "<div>\n",
       "<style scoped>\n",
       "    .dataframe tbody tr th:only-of-type {\n",
       "        vertical-align: middle;\n",
       "    }\n",
       "\n",
       "    .dataframe tbody tr th {\n",
       "        vertical-align: top;\n",
       "    }\n",
       "\n",
       "    .dataframe thead th {\n",
       "        text-align: right;\n",
       "    }\n",
       "</style>\n",
       "<table border=\"1\" class=\"dataframe\">\n",
       "  <thead>\n",
       "    <tr style=\"text-align: right;\">\n",
       "      <th></th>\n",
       "      <th>High</th>\n",
       "      <th>Low</th>\n",
       "      <th>Open</th>\n",
       "      <th>Close</th>\n",
       "      <th>Volume</th>\n",
       "      <th>Adj Close</th>\n",
       "    </tr>\n",
       "    <tr>\n",
       "      <th>Date</th>\n",
       "      <th></th>\n",
       "      <th></th>\n",
       "      <th></th>\n",
       "      <th></th>\n",
       "      <th></th>\n",
       "      <th></th>\n",
       "    </tr>\n",
       "  </thead>\n",
       "  <tbody>\n",
       "    <tr>\n",
       "      <th>2022-08-07</th>\n",
       "      <td>23359.009766</td>\n",
       "      <td>22894.556641</td>\n",
       "      <td>22963.505859</td>\n",
       "      <td>23175.890625</td>\n",
       "      <td>15886817043</td>\n",
       "      <td>23175.890625</td>\n",
       "    </tr>\n",
       "    <tr>\n",
       "      <th>2022-08-08</th>\n",
       "      <td>24203.689453</td>\n",
       "      <td>23176.546875</td>\n",
       "      <td>23179.527344</td>\n",
       "      <td>23809.486328</td>\n",
       "      <td>28575544847</td>\n",
       "      <td>23809.486328</td>\n",
       "    </tr>\n",
       "    <tr>\n",
       "      <th>2022-08-09</th>\n",
       "      <td>23898.615234</td>\n",
       "      <td>22982.000000</td>\n",
       "      <td>23811.484375</td>\n",
       "      <td>23164.318359</td>\n",
       "      <td>23555719219</td>\n",
       "      <td>23164.318359</td>\n",
       "    </tr>\n",
       "    <tr>\n",
       "      <th>2022-08-10</th>\n",
       "      <td>24127.414062</td>\n",
       "      <td>22771.519531</td>\n",
       "      <td>23162.898438</td>\n",
       "      <td>23947.642578</td>\n",
       "      <td>32837431722</td>\n",
       "      <td>23947.642578</td>\n",
       "    </tr>\n",
       "    <tr>\n",
       "      <th>2022-08-11</th>\n",
       "      <td>24669.126953</td>\n",
       "      <td>23956.478516</td>\n",
       "      <td>23984.750000</td>\n",
       "      <td>24423.675781</td>\n",
       "      <td>38728036352</td>\n",
       "      <td>24423.675781</td>\n",
       "    </tr>\n",
       "  </tbody>\n",
       "</table>\n",
       "</div>"
      ],
      "text/plain": [
       "                    High           Low          Open         Close  \\\n",
       "Date                                                                 \n",
       "2022-08-07  23359.009766  22894.556641  22963.505859  23175.890625   \n",
       "2022-08-08  24203.689453  23176.546875  23179.527344  23809.486328   \n",
       "2022-08-09  23898.615234  22982.000000  23811.484375  23164.318359   \n",
       "2022-08-10  24127.414062  22771.519531  23162.898438  23947.642578   \n",
       "2022-08-11  24669.126953  23956.478516  23984.750000  24423.675781   \n",
       "\n",
       "                 Volume     Adj Close  \n",
       "Date                                   \n",
       "2022-08-07  15886817043  23175.890625  \n",
       "2022-08-08  28575544847  23809.486328  \n",
       "2022-08-09  23555719219  23164.318359  \n",
       "2022-08-10  32837431722  23947.642578  \n",
       "2022-08-11  38728036352  24423.675781  "
      ]
     },
     "execution_count": 5,
     "metadata": {},
     "output_type": "execute_result"
    }
   ],
   "source": [
    "df.tail()"
   ]
  },
  {
   "cell_type": "code",
   "execution_count": 6,
   "metadata": {
    "colab": {
     "base_uri": "https://localhost:8080/"
    },
    "id": "L2AjIgUh8Slm",
    "outputId": "45942352-721c-4a2c-8649-c76ee9829a9b"
   },
   "outputs": [
    {
     "data": {
      "text/plain": [
       "1348"
      ]
     },
     "execution_count": 6,
     "metadata": {},
     "output_type": "execute_result"
    }
   ],
   "source": [
    "from keras.engine import training\n",
    "data = df.filter(['Close'])\n",
    "dataset= data.values\n",
    "training_data_len = math.ceil(len(dataset)*.8)\n",
    "training_data_len"
   ]
  },
  {
   "cell_type": "markdown",
   "metadata": {},
   "source": [
    "Normalization\n",
    "This will take to our data is to normalize its values. The goal of normalization is to change the values of numeric columns in the data set to a common scale, without distorting differences in the ranges of values."
   ]
  },
  {
   "cell_type": "code",
   "execution_count": 7,
   "metadata": {
    "colab": {
     "base_uri": "https://localhost:8080/"
    },
    "id": "W_xbXK4E_d7u",
    "outputId": "3089fadf-a187-40a3-b9ab-01766f152f45"
   },
   "outputs": [
    {
     "data": {
      "text/plain": [
       "array([[0.16198395],\n",
       "       [0.18257929],\n",
       "       [0.18598206],\n",
       "       ...,\n",
       "       [0.3097705 ],\n",
       "       [0.32194714],\n",
       "       [0.329347  ]])"
      ]
     },
     "execution_count": 7,
     "metadata": {},
     "output_type": "execute_result"
    }
   ],
   "source": [
    "scaler = MinMaxScaler(feature_range=(0,1))\n",
    "scaled_data = scaler.fit_transform(dataset)\n",
    "\n",
    "scaled_data"
   ]
  },
  {
   "cell_type": "code",
   "execution_count": 8,
   "metadata": {
    "colab": {
     "base_uri": "https://localhost:8080/"
    },
    "id": "XeucuLXy_uWw",
    "outputId": "86f57c5b-d291-45eb-bed7-63f78a9c814b"
   },
   "outputs": [
    {
     "name": "stdout",
     "output_type": "stream",
     "text": [
      "[array([0.16198395, 0.18257929, 0.18598206, 0.19217201, 0.22062372,\n",
      "       0.22213934, 0.20582659, 0.18550172, 0.17656812, 0.1824425 ,\n",
      "       0.15807598, 0.16701114, 0.17291197, 0.1637685 , 0.16451154,\n",
      "       0.12830297, 0.12360997, 0.12806047, 0.13012016, 0.15020097,\n",
      "       0.13000667, 0.11961186, 0.11863253, 0.12626504, 0.12471056,\n",
      "       0.12334262, 0.12752884, 0.13290112, 0.12528572, 0.10678581,\n",
      "       0.10857035, 0.09223958, 0.0869576 , 0.09230751, 0.0783498 ,\n",
      "       0.05780358, 0.0702197 , 0.0681569 , 0.07817228, 0.08549997,\n",
      "       0.08371107, 0.0760641 , 0.08844711, 0.08334435, 0.0972775 ,\n",
      "       0.10772006, 0.10876934, 0.12243013, 0.11371103, 0.12418047,\n",
      "       0.12695368, 0.11586555, 0.10521112, 0.10981394, 0.1022276 ,\n",
      "       0.09992169, 0.11083369, 0.11641272, 0.11131869, 0.11991653])]\n",
      "[0.12202130528365762]\n",
      "\n",
      "[array([0.16198395, 0.18257929, 0.18598206, 0.19217201, 0.22062372,\n",
      "       0.22213934, 0.20582659, 0.18550172, 0.17656812, 0.1824425 ,\n",
      "       0.15807598, 0.16701114, 0.17291197, 0.1637685 , 0.16451154,\n",
      "       0.12830297, 0.12360997, 0.12806047, 0.13012016, 0.15020097,\n",
      "       0.13000667, 0.11961186, 0.11863253, 0.12626504, 0.12471056,\n",
      "       0.12334262, 0.12752884, 0.13290112, 0.12528572, 0.10678581,\n",
      "       0.10857035, 0.09223958, 0.0869576 , 0.09230751, 0.0783498 ,\n",
      "       0.05780358, 0.0702197 , 0.0681569 , 0.07817228, 0.08549997,\n",
      "       0.08371107, 0.0760641 , 0.08844711, 0.08334435, 0.0972775 ,\n",
      "       0.10772006, 0.10876934, 0.12243013, 0.11371103, 0.12418047,\n",
      "       0.12695368, 0.11586555, 0.10521112, 0.10981394, 0.1022276 ,\n",
      "       0.09992169, 0.11083369, 0.11641272, 0.11131869, 0.11991653]), array([0.18257929, 0.18598206, 0.19217201, 0.22062372, 0.22213934,\n",
      "       0.20582659, 0.18550172, 0.17656812, 0.1824425 , 0.15807598,\n",
      "       0.16701114, 0.17291197, 0.1637685 , 0.16451154, 0.12830297,\n",
      "       0.12360997, 0.12806047, 0.13012016, 0.15020097, 0.13000667,\n",
      "       0.11961186, 0.11863253, 0.12626504, 0.12471056, 0.12334262,\n",
      "       0.12752884, 0.13290112, 0.12528572, 0.10678581, 0.10857035,\n",
      "       0.09223958, 0.0869576 , 0.09230751, 0.0783498 , 0.05780358,\n",
      "       0.0702197 , 0.0681569 , 0.07817228, 0.08549997, 0.08371107,\n",
      "       0.0760641 , 0.08844711, 0.08334435, 0.0972775 , 0.10772006,\n",
      "       0.10876934, 0.12243013, 0.11371103, 0.12418047, 0.12695368,\n",
      "       0.11586555, 0.10521112, 0.10981394, 0.1022276 , 0.09992169,\n",
      "       0.11083369, 0.11641272, 0.11131869, 0.11991653, 0.12202131])]\n",
      "[0.12202130528365762, 0.12829053252400627]\n",
      "\n"
     ]
    }
   ],
   "source": [
    "train_data = scaled_data[0:training_data_len, :]\n",
    "x_train = []\n",
    "y_train=[]\n",
    "\n",
    "for i in range(60, len(train_data)):\n",
    "  x_train.append(train_data[i-60:i,0])\n",
    "  y_train.append(train_data[i,0])\n",
    "  if i<=61:\n",
    "    print(x_train)\n",
    "    print(y_train)\n",
    "    print()"
   ]
  },
  {
   "cell_type": "code",
   "execution_count": 9,
   "metadata": {
    "id": "3-8S2IRIAgWW"
   },
   "outputs": [],
   "source": [
    "x_train, y_train = np.array(x_train), np.array(y_train)"
   ]
  },
  {
   "cell_type": "code",
   "execution_count": 10,
   "metadata": {
    "colab": {
     "base_uri": "https://localhost:8080/"
    },
    "id": "_KmSFduUA5bg",
    "outputId": "20967416-77ce-462a-d46b-a592ac777e7c"
   },
   "outputs": [
    {
     "data": {
      "text/plain": [
       "(1288, 60, 1)"
      ]
     },
     "execution_count": 10,
     "metadata": {},
     "output_type": "execute_result"
    }
   ],
   "source": [
    "x_train =np.reshape(x_train, (x_train.shape[0], x_train.shape[1],1))\n",
    "x_train.shape"
   ]
  },
  {
   "cell_type": "markdown",
   "metadata": {},
   "source": [
    "LSTM neural network (deep learning)\n"
   ]
  },
  {
   "cell_type": "code",
   "execution_count": 11,
   "metadata": {
    "id": "fsFQ_JWmBHsV"
   },
   "outputs": [],
   "source": [
    "model = Sequential()\n",
    "model.add(LSTM(50, return_sequences=True, input_shape=(x_train.shape[1], 1)))\n",
    "model.add(LSTM(50, return_sequences=False))\n",
    "model.add(Dense(25))\n",
    "model.add(Dense(1))"
   ]
  },
  {
   "cell_type": "markdown",
   "metadata": {},
   "source": [
    "Compile the model"
   ]
  },
  {
   "cell_type": "code",
   "execution_count": 12,
   "metadata": {
    "id": "cIxRtF5ABxrn"
   },
   "outputs": [],
   "source": [
    "model.compile(optimizer='adam', loss='mean_squared_error')"
   ]
  },
  {
   "cell_type": "code",
   "execution_count": 13,
   "metadata": {
    "colab": {
     "base_uri": "https://localhost:8080/"
    },
    "id": "MocRKOvjB_cy",
    "outputId": "ec9c2e15-6b04-45f8-a4f3-e62a9b757a63"
   },
   "outputs": [
    {
     "name": "stdout",
     "output_type": "stream",
     "text": [
      "1288/1288 [==============================] - 24s 17ms/step - loss: 0.0022\n"
     ]
    },
    {
     "data": {
      "text/plain": [
       "<keras.callbacks.History at 0x1a4cdf3c780>"
      ]
     },
     "execution_count": 13,
     "metadata": {},
     "output_type": "execute_result"
    }
   ],
   "source": [
    "model.fit(x_train, y_train, batch_size=1, epochs=1)"
   ]
  },
  {
   "cell_type": "code",
   "execution_count": 14,
   "metadata": {
    "id": "ixjZefpLCHoe"
   },
   "outputs": [],
   "source": [
    "test_data = scaled_data[training_data_len-60:,:]\n",
    "x_test=[]\n",
    "y_test=dataset[training_data_len:,:]\n",
    "for i in range(60, len(test_data)):\n",
    "  x_test.append(test_data[i-60:i, 0])"
   ]
  },
  {
   "cell_type": "code",
   "execution_count": 15,
   "metadata": {
    "id": "TlfYYbCSDDzl"
   },
   "outputs": [],
   "source": [
    "x_test = np.array(x_test)"
   ]
  },
  {
   "cell_type": "code",
   "execution_count": 16,
   "metadata": {
    "id": "RpRCFCXyDNNG"
   },
   "outputs": [],
   "source": [
    "x_test= np.reshape(x_test,(x_test.shape[0],x_test.shape[1],1))"
   ]
  },
  {
   "cell_type": "code",
   "execution_count": 17,
   "metadata": {
    "id": "-zyUqJElDaWZ"
   },
   "outputs": [
    {
     "name": "stdout",
     "output_type": "stream",
     "text": [
      "11/11 [==============================] - 1s 9ms/step\n"
     ]
    }
   ],
   "source": [
    "predictions = model.predict(x_test)\n",
    "predictions = scaler.inverse_transform(predictions)\n"
   ]
  },
  {
   "cell_type": "markdown",
   "metadata": {},
   "source": [
    "Root mean square error calculation"
   ]
  },
  {
   "cell_type": "code",
   "execution_count": 18,
   "metadata": {
    "colab": {
     "base_uri": "https://localhost:8080/"
    },
    "id": "SOUhfK93DqYH",
    "outputId": "dd9ab480-27e3-42e8-f3cd-e28d29966770"
   },
   "outputs": [
    {
     "data": {
      "text/plain": [
       "286.84730747767856"
      ]
     },
     "execution_count": 18,
     "metadata": {},
     "output_type": "execute_result"
    }
   ],
   "source": [
    "rmse = np.sqrt(np.mean(predictions - y_test)**2)\n",
    "rmse"
   ]
  },
  {
   "cell_type": "markdown",
   "metadata": {},
   "source": [
    "Predictions"
   ]
  },
  {
   "cell_type": "code",
   "execution_count": 19,
   "metadata": {
    "colab": {
     "base_uri": "https://localhost:8080/"
    },
    "id": "18BE5QAOD7Gn",
    "outputId": "d134058a-4a40-4f14-ec8e-4a3f35217621"
   },
   "outputs": [
    {
     "name": "stderr",
     "output_type": "stream",
     "text": [
      "C:\\Users\\Saketh\\AppData\\Local\\Programs\\Python\\Python37\\lib\\site-packages\\ipykernel_launcher.py:3: SettingWithCopyWarning: \n",
      "A value is trying to be set on a copy of a slice from a DataFrame.\n",
      "Try using .loc[row_indexer,col_indexer] = value instead\n",
      "\n",
      "See the caveats in the documentation: https://pandas.pydata.org/pandas-docs/stable/user_guide/indexing.html#returning-a-view-versus-a-copy\n",
      "  This is separate from the ipykernel package so we can avoid doing imports until\n"
     ]
    },
    {
     "data": {
      "image/png": "[encoded data removed]",
      "text/plain": [
       "<Figure size 1152x576 with 1 Axes>"
      ]
     },
     "metadata": {},
     "output_type": "display_data"
    }
   ],
   "source": [
    "train= data[:training_data_len]\n",
    "valid= data[training_data_len:]\n",
    "valid['Predictions']= predictions\n",
    "\n",
    "plt.figure(figsize=(16,8))\n",
    "plt.title('Model')\n",
    "plt.xlabel('Date',fontsize=18)\n",
    "plt.ylabel('Close Price in USD ($)', fontsize =18)\n",
    "plt.plot(train['Close'])\n",
    "plt.plot(valid[['Close','Predictions']])\n",
    "plt.legend(['Train', 'Val', 'Predictions'], loc='lower right')\n",
    "plt.show()"
   ]
  },
  {
   "cell_type": "code",
   "execution_count": 20,
   "metadata": {
    "colab": {
     "base_uri": "https://localhost:8080/",
     "height": 424
    },
    "id": "eJl97zHZEHxv",
    "outputId": "2eb6c618-22c0-4527-db18-b95de767112a"
   },
   "outputs": [
    {
     "data": {
      "text/html": [
       "<div>\n",
       "<style scoped>\n",
       "    .dataframe tbody tr th:only-of-type {\n",
       "        vertical-align: middle;\n",
       "    }\n",
       "\n",
       "    .dataframe tbody tr th {\n",
       "        vertical-align: top;\n",
       "    }\n",
       "\n",
       "    .dataframe thead th {\n",
       "        text-align: right;\n",
       "    }\n",
       "</style>\n",
       "<table border=\"1\" class=\"dataframe\">\n",
       "  <thead>\n",
       "    <tr style=\"text-align: right;\">\n",
       "      <th></th>\n",
       "      <th>Close</th>\n",
       "      <th>Predictions</th>\n",
       "    </tr>\n",
       "    <tr>\n",
       "      <th>Date</th>\n",
       "      <th></th>\n",
       "      <th></th>\n",
       "    </tr>\n",
       "  </thead>\n",
       "  <tbody>\n",
       "    <tr>\n",
       "      <th>2021-09-10</th>\n",
       "      <td>44883.910156</td>\n",
       "      <td>47011.523438</td>\n",
       "    </tr>\n",
       "    <tr>\n",
       "      <th>2021-09-11</th>\n",
       "      <td>45201.457031</td>\n",
       "      <td>46366.660156</td>\n",
       "    </tr>\n",
       "    <tr>\n",
       "      <th>2021-09-12</th>\n",
       "      <td>46063.269531</td>\n",
       "      <td>45783.867188</td>\n",
       "    </tr>\n",
       "    <tr>\n",
       "      <th>2021-09-13</th>\n",
       "      <td>44963.074219</td>\n",
       "      <td>45396.054688</td>\n",
       "    </tr>\n",
       "    <tr>\n",
       "      <th>2021-09-14</th>\n",
       "      <td>47092.492188</td>\n",
       "      <td>45034.894531</td>\n",
       "    </tr>\n",
       "    <tr>\n",
       "      <th>...</th>\n",
       "      <td>...</td>\n",
       "      <td>...</td>\n",
       "    </tr>\n",
       "    <tr>\n",
       "      <th>2022-08-07</th>\n",
       "      <td>23175.890625</td>\n",
       "      <td>24923.619141</td>\n",
       "    </tr>\n",
       "    <tr>\n",
       "      <th>2022-08-08</th>\n",
       "      <td>23809.486328</td>\n",
       "      <td>24928.136719</td>\n",
       "    </tr>\n",
       "    <tr>\n",
       "      <th>2022-08-09</th>\n",
       "      <td>23164.318359</td>\n",
       "      <td>25009.333984</td>\n",
       "    </tr>\n",
       "    <tr>\n",
       "      <th>2022-08-10</th>\n",
       "      <td>23947.642578</td>\n",
       "      <td>25053.937500</td>\n",
       "    </tr>\n",
       "    <tr>\n",
       "      <th>2022-08-11</th>\n",
       "      <td>24423.675781</td>\n",
       "      <td>25156.384766</td>\n",
       "    </tr>\n",
       "  </tbody>\n",
       "</table>\n",
       "<p>336 rows × 2 columns</p>\n",
       "</div>"
      ],
      "text/plain": [
       "                   Close   Predictions\n",
       "Date                                  \n",
       "2021-09-10  44883.910156  47011.523438\n",
       "2021-09-11  45201.457031  46366.660156\n",
       "2021-09-12  46063.269531  45783.867188\n",
       "2021-09-13  44963.074219  45396.054688\n",
       "2021-09-14  47092.492188  45034.894531\n",
       "...                  ...           ...\n",
       "2022-08-07  23175.890625  24923.619141\n",
       "2022-08-08  23809.486328  24928.136719\n",
       "2022-08-09  23164.318359  25009.333984\n",
       "2022-08-10  23947.642578  25053.937500\n",
       "2022-08-11  24423.675781  25156.384766\n",
       "\n",
       "[336 rows x 2 columns]"
      ]
     },
     "execution_count": 20,
     "metadata": {},
     "output_type": "execute_result"
    }
   ],
   "source": [
    "valid"
   ]
  },
  {
   "cell_type": "code",
   "execution_count": 21,
   "metadata": {
    "colab": {
     "base_uri": "https://localhost:8080/"
    },
    "id": "gF7jO8mJEuoA",
    "outputId": "6f2ec5cd-1995-4125-a582-5d2c699327ee"
   },
   "outputs": [
    {
     "name": "stdout",
     "output_type": "stream",
     "text": [
      "1/1 [==============================] - 0s 32ms/step\n",
      "[[25156.385]]\n"
     ]
    }
   ],
   "source": [
    "btc_quote = web.DataReader('BTC-USD',data_source='yahoo', start = '2018-01-01', end = '2022-08-09')\n",
    "new_df= btc_quote.filter(['Close'])\n",
    "last_60_days = new_df[-60:].values\n",
    "last_60_days_scaled=scaler.transform(last_60_days)\n",
    "X_test = []\n",
    "X_test.append(last_60_days_scaled)\n",
    "X_test = np.array(X_test)\n",
    "X_test= np.reshape(X_test, (X_test.shape[0], X_test.shape[1], 1))\n",
    "pred_price = model.predict(X_test)\n",
    "pred_price=scaler.inverse_transform(pred_price)\n",
    "print(pred_price)"
   ]
  },
  {
   "cell_type": "code",
   "execution_count": null,
   "metadata": {},
   "outputs": [],
   "source": []
  },
  {
   "cell_type": "code",
   "execution_count": 22,
   "metadata": {},
   "outputs": [],
   "source": [
    "#print(type(X_test.dim))"
   ]
  },
  {
   "cell_type": "code",
   "execution_count": 36,
   "metadata": {},
   "outputs": [],
   "source": [
    "#X_test"
   ]
  },
  {
   "cell_type": "code",
   "execution_count": 43,
   "metadata": {
    "scrolled": true
   },
   "outputs": [
    {
     "name": "stdout",
     "output_type": "stream",
     "text": [
      "Date\n",
      "2022-08-11    24490.841797\n",
      "Name: Close, dtype: float64\n"
     ]
    }
   ],
   "source": [
    "btc_quote2= web.DataReader('BTC-USD', data_source='yahoo', start = '2022-08-11', end = '2022-08-11')\n",
    "print(btc_quote2['Close'])"
   ]
  },
  {
   "cell_type": "markdown",
   "metadata": {},
   "source": [
    "Save the model"
   ]
  },
  {
   "cell_type": "code",
   "execution_count": 28,
   "metadata": {
    "scrolled": true
   },
   "outputs": [
    {
     "name": "stdout",
     "output_type": "stream",
     "text": [
      "Saved new model to disk\n"
     ]
    }
   ],
   "source": [
    "model.save(\"model.h5\")\n",
    "print(\"Saved new model to disk\")"
   ]
  },
  {
   "cell_type": "markdown",
   "metadata": {},
   "source": [
    "Load the model"
   ]
  },
  {
   "cell_type": "code",
   "execution_count": 29,
   "metadata": {
    "scrolled": true
   },
   "outputs": [
    {
     "name": "stdout",
     "output_type": "stream",
     "text": [
      "Model: \"sequential\"\n",
      "_________________________________________________________________\n",
      " Layer (type)                Output Shape              Param #   \n",
      "=================================================================\n",
      " lstm (LSTM)                 (None, 60, 50)            10400     \n",
      "                                                                 \n",
      " lstm_1 (LSTM)               (None, 50)                20200     \n",
      "                                                                 \n",
      " dense (Dense)               (None, 25)                1275      \n",
      "                                                                 \n",
      " dense_1 (Dense)             (None, 1)                 26        \n",
      "                                                                 \n",
      "=================================================================\n",
      "Total params: 31,901\n",
      "Trainable params: 31,901\n",
      "Non-trainable params: 0\n",
      "_________________________________________________________________\n"
     ]
    }
   ],
   "source": [
    "import tensorflow as tf\n",
    "loaded_model = tf.keras.models.load_model(\"model.h5\")\n",
    "loaded_model.build()\n",
    "loaded_model.summary()"
   ]
  },
  {
   "cell_type": "markdown",
   "metadata": {},
   "source": [
    "Conclusion: \n",
    "\n",
    "RNNs and LSTM are excellent technologies and have great architectures that can be used to analyze and predict time-series information. The focus of the article was to implement a simple model to predict the bitcoin price..."
   ]
  },
  {
   "cell_type": "code",
   "execution_count": 30,
   "metadata": {},
   "outputs": [
    {
     "name": "stdout",
     "output_type": "stream",
     "text": [
      "1/1 [==============================] - 0s 26ms/step\n",
      "[[[0.36570593]\n",
      "  [0.29924774]\n",
      "  [0.29488593]\n",
      "  [0.30057606]\n",
      "  [0.26651439]\n",
      "  [0.26791082]\n",
      "  [0.24531112]\n",
      "  [0.26918221]\n",
      "  [0.26990141]\n",
      "  [0.27162782]\n",
      "  [0.26038008]\n",
      "  [0.27746148]\n",
      "  [0.27972759]\n",
      "  [0.28393529]\n",
      "  [0.27655083]\n",
      "  [0.27201459]\n",
      "  [0.26494412]\n",
      "  [0.26219873]\n",
      "  [0.25723531]\n",
      "  [0.24922414]\n",
      "  [0.2488027 ]\n",
      "  [0.24965487]\n",
      "  [0.26417663]\n",
      "  [0.26353701]\n",
      "  [0.2691041 ]\n",
      "  [0.28603773]\n",
      "  [0.28749163]\n",
      "  [0.28533229]\n",
      "  [0.27395724]\n",
      "  [0.26012401]\n",
      "  [0.25007206]\n",
      "  [0.26387836]\n",
      "  [0.26944101]\n",
      "  [0.27358228]\n",
      "  [0.27908497]\n",
      "  [0.27269647]\n",
      "  [0.29922133]\n",
      "  [0.31326988]\n",
      "  [0.31081844]\n",
      "  [0.30977532]\n",
      "  [0.30278559]\n",
      "  [0.29890715]\n",
      "  [0.30114072]\n",
      "  [0.28174912]\n",
      "  [0.27985347]\n",
      "  [0.30613659]\n",
      "  [0.32033427]\n",
      "  [0.31972408]\n",
      "  [0.31741682]\n",
      "  [0.31245319]\n",
      "  [0.31210037]\n",
      "  [0.30687603]\n",
      "  [0.30483019]\n",
      "  [0.30147949]\n",
      "  [0.31171354]\n",
      "  [0.30661429]\n",
      "  [0.30995039]\n",
      "  [0.31979952]\n",
      "  [0.3097705 ]\n",
      "  [0.32194714]]]\n"
     ]
    }
   ],
   "source": [
    "pred_price = model.predict(X_test)\n",
    "print(X_test)"
   ]
  },
  {
   "cell_type": "code",
   "execution_count": null,
   "metadata": {},
   "outputs": [],
   "source": []
  },
  {
   "cell_type": "code",
   "execution_count": null,
   "metadata": {},
   "outputs": [],
   "source": []
  },
  {
   "cell_type": "code",
   "execution_count": null,
   "metadata": {},
   "outputs": [],
   "source": []
  }
 ],
 "metadata": {
  "colab": {
   "name": "lstm_model.ipynb",
   "provenance": []
  },
  "kernelspec": {
   "display_name": "Python 3 (ipykernel)",
   "language": "python",
   "name": "python3"
  },
  "language_info": {
   "codemirror_mode": {
    "name": "ipython",
    "version": 3
   },
   "file_extension": ".py",
   "mimetype": "text/x-python",
   "name": "python",
   "nbconvert_exporter": "python",
   "pygments_lexer": "ipython3",
   "version": "3.7.0"
  }
 },
 "nbformat": 4,
 "nbformat_minor": 4
}
